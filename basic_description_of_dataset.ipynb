{
 "cells": [
  {
   "cell_type": "code",
   "execution_count": 1,
   "metadata": {},
   "outputs": [],
   "source": [
    "import pandas as pd"
   ]
  },
  {
   "cell_type": "code",
   "execution_count": 9,
   "metadata": {},
   "outputs": [
    {
     "name": "stdout",
     "output_type": "stream",
     "text": [
      "(26224, 3)\n"
     ]
    },
    {
     "data": {
      "text/html": [
       "<div>\n",
       "<style scoped>\n",
       "    .dataframe tbody tr th:only-of-type {\n",
       "        vertical-align: middle;\n",
       "    }\n",
       "\n",
       "    .dataframe tbody tr th {\n",
       "        vertical-align: top;\n",
       "    }\n",
       "\n",
       "    .dataframe thead th {\n",
       "        text-align: right;\n",
       "    }\n",
       "</style>\n",
       "<table border=\"1\" class=\"dataframe\">\n",
       "  <thead>\n",
       "    <tr style=\"text-align: right;\">\n",
       "      <th></th>\n",
       "      <th>text</th>\n",
       "      <th>contains_driver</th>\n",
       "      <th>drivers</th>\n",
       "    </tr>\n",
       "  </thead>\n",
       "  <tbody>\n",
       "    <tr>\n",
       "      <th>0</th>\n",
       "      <td>I'm a Red Bull fan, so when the FIA says nothi...</td>\n",
       "      <td>True</td>\n",
       "      <td>[Max Verstappen]</td>\n",
       "    </tr>\n",
       "    <tr>\n",
       "      <th>1</th>\n",
       "      <td>Magnuson and Hulkenberg are so overrated , the...</td>\n",
       "      <td>True</td>\n",
       "      <td>[Niko Hulkenberg]</td>\n",
       "    </tr>\n",
       "    <tr>\n",
       "      <th>2</th>\n",
       "      <td>Please everyone to stop making so many hate co...</td>\n",
       "      <td>True</td>\n",
       "      <td>[Lance Stroll]</td>\n",
       "    </tr>\n",
       "    <tr>\n",
       "      <th>3</th>\n",
       "      <td>2:35 Piastri is soooo sooo selfish 👎👎👎</td>\n",
       "      <td>True</td>\n",
       "      <td>[Oscar Piastri]</td>\n",
       "    </tr>\n",
       "    <tr>\n",
       "      <th>4</th>\n",
       "      <td>Max vestapem</td>\n",
       "      <td>True</td>\n",
       "      <td>[Max Verstappen]</td>\n",
       "    </tr>\n",
       "    <tr>\n",
       "      <th>5</th>\n",
       "      <td>Well done Lando. So glad to see you win this 🎉...</td>\n",
       "      <td>True</td>\n",
       "      <td>[Lando Norris]</td>\n",
       "    </tr>\n",
       "    <tr>\n",
       "      <th>6</th>\n",
       "      <td>Get in Lando! Fookin get in son!</td>\n",
       "      <td>True</td>\n",
       "      <td>[Lando Norris]</td>\n",
       "    </tr>\n",
       "    <tr>\n",
       "      <th>7</th>\n",
       "      <td>Well done Lando🙌🏼👏🏼💪🏼👍🏼 well deserved win! Alw...</td>\n",
       "      <td>True</td>\n",
       "      <td>[Lando Norris]</td>\n",
       "    </tr>\n",
       "    <tr>\n",
       "      <th>8</th>\n",
       "      <td>Lando is worth more than George. It’s official...</td>\n",
       "      <td>True</td>\n",
       "      <td>[George Russell, Lando Norris]</td>\n",
       "    </tr>\n",
       "    <tr>\n",
       "      <th>9</th>\n",
       "      <td>Alonso was cooking</td>\n",
       "      <td>True</td>\n",
       "      <td>[Fernando Alonso]</td>\n",
       "    </tr>\n",
       "    <tr>\n",
       "      <th>10</th>\n",
       "      <td>Alonso Is the best</td>\n",
       "      <td>True</td>\n",
       "      <td>[Fernando Alonso]</td>\n",
       "    </tr>\n",
       "    <tr>\n",
       "      <th>11</th>\n",
       "      <td>Zhou is a hero!</td>\n",
       "      <td>True</td>\n",
       "      <td>[Guan Yu Zhou]</td>\n",
       "    </tr>\n",
       "    <tr>\n",
       "      <th>12</th>\n",
       "      <td>Sainz and Alpnso will be an epic lineup</td>\n",
       "      <td>True</td>\n",
       "      <td>[Carlos Sainz]</td>\n",
       "    </tr>\n",
       "    <tr>\n",
       "      <th>13</th>\n",
       "      <td>I wonder if Alonso is driving Redbull what wil...</td>\n",
       "      <td>True</td>\n",
       "      <td>[Fernando Alonso]</td>\n",
       "    </tr>\n",
       "    <tr>\n",
       "      <th>14</th>\n",
       "      <td>I wish they would stop repeatedly saying Alons...</td>\n",
       "      <td>True</td>\n",
       "      <td>[Fernando Alonso]</td>\n",
       "    </tr>\n",
       "  </tbody>\n",
       "</table>\n",
       "</div>"
      ],
      "text/plain": [
       "                                                 text  contains_driver  \\\n",
       "0   I'm a Red Bull fan, so when the FIA says nothi...             True   \n",
       "1   Magnuson and Hulkenberg are so overrated , the...             True   \n",
       "2   Please everyone to stop making so many hate co...             True   \n",
       "3              2:35 Piastri is soooo sooo selfish 👎👎👎             True   \n",
       "4                                        Max vestapem             True   \n",
       "5   Well done Lando. So glad to see you win this 🎉...             True   \n",
       "6                    Get in Lando! Fookin get in son!             True   \n",
       "7   Well done Lando🙌🏼👏🏼💪🏼👍🏼 well deserved win! Alw...             True   \n",
       "8   Lando is worth more than George. It’s official...             True   \n",
       "9                                  Alonso was cooking             True   \n",
       "10                                 Alonso Is the best             True   \n",
       "11                                    Zhou is a hero!             True   \n",
       "12            Sainz and Alpnso will be an epic lineup             True   \n",
       "13  I wonder if Alonso is driving Redbull what wil...             True   \n",
       "14  I wish they would stop repeatedly saying Alons...             True   \n",
       "\n",
       "                           drivers  \n",
       "0                 [Max Verstappen]  \n",
       "1                [Niko Hulkenberg]  \n",
       "2                   [Lance Stroll]  \n",
       "3                  [Oscar Piastri]  \n",
       "4                 [Max Verstappen]  \n",
       "5                   [Lando Norris]  \n",
       "6                   [Lando Norris]  \n",
       "7                   [Lando Norris]  \n",
       "8   [George Russell, Lando Norris]  \n",
       "9                [Fernando Alonso]  \n",
       "10               [Fernando Alonso]  \n",
       "11                  [Guan Yu Zhou]  \n",
       "12                  [Carlos Sainz]  \n",
       "13               [Fernando Alonso]  \n",
       "14               [Fernando Alonso]  "
      ]
     },
     "execution_count": 9,
     "metadata": {},
     "output_type": "execute_result"
    }
   ],
   "source": [
    "df = pd.read_json('dataset/2024_translated_containing_drivers.json')\n",
    "print(df.shape)\n",
    "df.head(15)"
   ]
  },
  {
   "cell_type": "markdown",
   "metadata": {},
   "source": [
    "# Komentarze z 2+ kierowcami"
   ]
  },
  {
   "cell_type": "code",
   "execution_count": 6,
   "metadata": {},
   "outputs": [
    {
     "name": "stdout",
     "output_type": "stream",
     "text": [
      "(7142, 3)\n"
     ]
    }
   ],
   "source": [
    "dataset_with_multiple_drivers = df[df['drivers'].apply(lambda x: len(x) > 1)]\n",
    "print(dataset_with_multiple_drivers.shape)"
   ]
  },
  {
   "cell_type": "markdown",
   "metadata": {},
   "source": [
    "# Komentarze z 1 kierowca"
   ]
  },
  {
   "cell_type": "code",
   "execution_count": 7,
   "metadata": {},
   "outputs": [
    {
     "name": "stdout",
     "output_type": "stream",
     "text": [
      "(19082, 3)\n"
     ]
    }
   ],
   "source": [
    "dataset_with_one_driver = df[df['drivers'].apply(lambda x: len(x) == 1)]\n",
    "print(dataset_with_one_driver.shape)"
   ]
  },
  {
   "cell_type": "markdown",
   "metadata": {},
   "source": [
    "# Gdyby rozdzielic komentarze"
   ]
  },
  {
   "cell_type": "code",
   "execution_count": 8,
   "metadata": {},
   "outputs": [
    {
     "name": "stdout",
     "output_type": "stream",
     "text": [
      "(35114, 3)\n"
     ]
    }
   ],
   "source": [
    "exploded_df = df.explode('drivers')\n",
    "print(exploded_df.shape)"
   ]
  },
  {
   "cell_type": "markdown",
   "metadata": {},
   "source": [
    "# Czestotliwosc wystepowania kierowcy "
   ]
  },
  {
   "cell_type": "code",
   "execution_count": 10,
   "metadata": {},
   "outputs": [
    {
     "data": {
      "text/plain": [
       "drivers\n",
       "Max Verstappen      7076\n",
       "Lando Norris        5847\n",
       "Lewis Hamilton      4233\n",
       "Carlos Sainz        3088\n",
       "Oscar Piastri       2805\n",
       "Sergio Perez        2690\n",
       "Charles Leclerc     2517\n",
       "George Russell      1861\n",
       "Fernando Alonso     1307\n",
       "Yuko Tsunoda        1041\n",
       "Lance Stroll         480\n",
       "Daniel Ricciardo     466\n",
       "Kevin Magnussen      390\n",
       "Esteban Ocon         315\n",
       "Valtteri Bottas      267\n",
       "Alex Albon           249\n",
       "Logan Sargeant       161\n",
       "Niko Hulkenberg      155\n",
       "Guan Yu Zhou         111\n",
       "Pierre Gasly          55\n",
       "Name: count, dtype: int64"
      ]
     },
     "execution_count": 10,
     "metadata": {},
     "output_type": "execute_result"
    }
   ],
   "source": [
    "exploded_df.value_counts('drivers')"
   ]
  }
 ],
 "metadata": {
  "kernelspec": {
   "display_name": "venv",
   "language": "python",
   "name": "python3"
  },
  "language_info": {
   "codemirror_mode": {
    "name": "ipython",
    "version": 3
   },
   "file_extension": ".py",
   "mimetype": "text/x-python",
   "name": "python",
   "nbconvert_exporter": "python",
   "pygments_lexer": "ipython3",
   "version": "3.12.3"
  }
 },
 "nbformat": 4,
 "nbformat_minor": 2
}
