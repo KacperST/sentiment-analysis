{
 "cells": [
  {
   "cell_type": "code",
   "execution_count": 2,
   "metadata": {},
   "outputs": [],
   "source": [
    "import pandas as pd"
   ]
  },
  {
   "cell_type": "code",
   "execution_count": 3,
   "metadata": {},
   "outputs": [
    {
     "name": "stdout",
     "output_type": "stream",
     "text": [
      "(69493, 2)\n"
     ]
    },
    {
     "data": {
      "text/html": [
       "<div>\n",
       "<style scoped>\n",
       "    .dataframe tbody tr th:only-of-type {\n",
       "        vertical-align: middle;\n",
       "    }\n",
       "\n",
       "    .dataframe tbody tr th {\n",
       "        vertical-align: top;\n",
       "    }\n",
       "\n",
       "    .dataframe thead th {\n",
       "        text-align: right;\n",
       "    }\n",
       "</style>\n",
       "<table border=\"1\" class=\"dataframe\">\n",
       "  <thead>\n",
       "    <tr style=\"text-align: right;\">\n",
       "      <th></th>\n",
       "      <th>text</th>\n",
       "      <th>drivers</th>\n",
       "    </tr>\n",
       "  </thead>\n",
       "  <tbody>\n",
       "    <tr>\n",
       "      <th>0</th>\n",
       "      <td>Enjoying how Magnusson is such a menace, that ...</td>\n",
       "      <td>[Lance Stroll]</td>\n",
       "    </tr>\n",
       "    <tr>\n",
       "      <th>1</th>\n",
       "      <td>why isz the air gray</td>\n",
       "      <td>[]</td>\n",
       "    </tr>\n",
       "    <tr>\n",
       "      <th>2</th>\n",
       "      <td>Stroll is a troll</td>\n",
       "      <td>[Lance Stroll]</td>\n",
       "    </tr>\n",
       "    <tr>\n",
       "      <th>3</th>\n",
       "      <td>You know it's China when u can't see the sky.....</td>\n",
       "      <td>[]</td>\n",
       "    </tr>\n",
       "    <tr>\n",
       "      <th>4</th>\n",
       "      <td>I wish they would stop repeatedly saying Alons...</td>\n",
       "      <td>[Fernando Alonso]</td>\n",
       "    </tr>\n",
       "    <tr>\n",
       "      <th>5</th>\n",
       "      <td>Stopped watching after season opener , too pre...</td>\n",
       "      <td>[Fernando Alonso]</td>\n",
       "    </tr>\n",
       "    <tr>\n",
       "      <th>6</th>\n",
       "      <td>Boring Boring, Boring. Here we go again. The h...</td>\n",
       "      <td>[]</td>\n",
       "    </tr>\n",
       "    <tr>\n",
       "      <th>7</th>\n",
       "      <td>I really wish F1 would find a new announcer.  ...</td>\n",
       "      <td>[]</td>\n",
       "    </tr>\n",
       "    <tr>\n",
       "      <th>8</th>\n",
       "      <td>Stroll has to go. I can't believe that the oth...</td>\n",
       "      <td>[Lance Stroll]</td>\n",
       "    </tr>\n",
       "    <tr>\n",
       "      <th>9</th>\n",
       "      <td>Do you think Perez is an average driver ?\\n.\\n...</td>\n",
       "      <td>[Sergio Perez]</td>\n",
       "    </tr>\n",
       "    <tr>\n",
       "      <th>10</th>\n",
       "      <td>this so called \" caster \" is ruining these vid...</td>\n",
       "      <td>[]</td>\n",
       "    </tr>\n",
       "    <tr>\n",
       "      <th>11</th>\n",
       "      <td>Who is this commentator, absolutely unbearable...</td>\n",
       "      <td>[]</td>\n",
       "    </tr>\n",
       "    <tr>\n",
       "      <th>12</th>\n",
       "      <td>get out of track canadian prince plz</td>\n",
       "      <td>[]</td>\n",
       "    </tr>\n",
       "    <tr>\n",
       "      <th>13</th>\n",
       "      <td>i really want to see the onboard of russel and...</td>\n",
       "      <td>[Fernando Alonso]</td>\n",
       "    </tr>\n",
       "    <tr>\n",
       "      <th>14</th>\n",
       "      <td>Someone tell stroll.he doesn't have what it ta...</td>\n",
       "      <td>[]</td>\n",
       "    </tr>\n",
       "  </tbody>\n",
       "</table>\n",
       "</div>"
      ],
      "text/plain": [
       "                                                 text            drivers\n",
       "0   Enjoying how Magnusson is such a menace, that ...     [Lance Stroll]\n",
       "1                                why isz the air gray                 []\n",
       "2                                   Stroll is a troll     [Lance Stroll]\n",
       "3   You know it's China when u can't see the sky.....                 []\n",
       "4   I wish they would stop repeatedly saying Alons...  [Fernando Alonso]\n",
       "5   Stopped watching after season opener , too pre...  [Fernando Alonso]\n",
       "6   Boring Boring, Boring. Here we go again. The h...                 []\n",
       "7   I really wish F1 would find a new announcer.  ...                 []\n",
       "8   Stroll has to go. I can't believe that the oth...     [Lance Stroll]\n",
       "9   Do you think Perez is an average driver ?\\n.\\n...     [Sergio Perez]\n",
       "10  this so called \" caster \" is ruining these vid...                 []\n",
       "11  Who is this commentator, absolutely unbearable...                 []\n",
       "12               get out of track canadian prince plz                 []\n",
       "13  i really want to see the onboard of russel and...  [Fernando Alonso]\n",
       "14  Someone tell stroll.he doesn't have what it ta...                 []"
      ]
     },
     "execution_count": 3,
     "metadata": {},
     "output_type": "execute_result"
    }
   ],
   "source": [
    "df = pd.read_json('data/dataset_with_drivers.json')\n",
    "print(df.shape)\n",
    "df.head(15)"
   ]
  },
  {
   "cell_type": "markdown",
   "metadata": {},
   "source": [
    "# Komentarze z 2+ kierowcami"
   ]
  },
  {
   "cell_type": "code",
   "execution_count": 6,
   "metadata": {},
   "outputs": [
    {
     "name": "stdout",
     "output_type": "stream",
     "text": [
      "(7142, 3)\n"
     ]
    }
   ],
   "source": [
    "dataset_with_multiple_drivers = df[df['drivers'].apply(lambda x: len(x) > 1)]\n",
    "print(dataset_with_multiple_drivers.shape)"
   ]
  },
  {
   "cell_type": "markdown",
   "metadata": {},
   "source": [
    "# Komentarze z 1 kierowca"
   ]
  },
  {
   "cell_type": "code",
   "execution_count": 7,
   "metadata": {},
   "outputs": [
    {
     "name": "stdout",
     "output_type": "stream",
     "text": [
      "(19082, 3)\n"
     ]
    }
   ],
   "source": [
    "dataset_with_one_driver = df[df['drivers'].apply(lambda x: len(x) == 1)]\n",
    "print(dataset_with_one_driver.shape)"
   ]
  },
  {
   "cell_type": "markdown",
   "metadata": {},
   "source": [
    "# Gdyby rozdzielic komentarze"
   ]
  },
  {
   "cell_type": "code",
   "execution_count": 8,
   "metadata": {},
   "outputs": [
    {
     "name": "stdout",
     "output_type": "stream",
     "text": [
      "(35114, 3)\n"
     ]
    }
   ],
   "source": [
    "exploded_df = df.explode('drivers')\n",
    "print(exploded_df.shape)"
   ]
  },
  {
   "cell_type": "markdown",
   "metadata": {},
   "source": [
    "# Czestotliwosc wystepowania kierowcy "
   ]
  },
  {
   "cell_type": "code",
   "execution_count": 10,
   "metadata": {},
   "outputs": [
    {
     "data": {
      "text/plain": [
       "drivers\n",
       "Max Verstappen      7076\n",
       "Lando Norris        5847\n",
       "Lewis Hamilton      4233\n",
       "Carlos Sainz        3088\n",
       "Oscar Piastri       2805\n",
       "Sergio Perez        2690\n",
       "Charles Leclerc     2517\n",
       "George Russell      1861\n",
       "Fernando Alonso     1307\n",
       "Yuko Tsunoda        1041\n",
       "Lance Stroll         480\n",
       "Daniel Ricciardo     466\n",
       "Kevin Magnussen      390\n",
       "Esteban Ocon         315\n",
       "Valtteri Bottas      267\n",
       "Alex Albon           249\n",
       "Logan Sargeant       161\n",
       "Niko Hulkenberg      155\n",
       "Guan Yu Zhou         111\n",
       "Pierre Gasly          55\n",
       "Name: count, dtype: int64"
      ]
     },
     "execution_count": 10,
     "metadata": {},
     "output_type": "execute_result"
    }
   ],
   "source": [
    "exploded_df.value_counts('drivers')"
   ]
  }
 ],
 "metadata": {
  "kernelspec": {
   "display_name": "venv",
   "language": "python",
   "name": "python3"
  },
  "language_info": {
   "codemirror_mode": {
    "name": "ipython",
    "version": 3
   },
   "file_extension": ".py",
   "mimetype": "text/x-python",
   "name": "python",
   "nbconvert_exporter": "python",
   "pygments_lexer": "ipython3",
   "version": "3.12.3"
  }
 },
 "nbformat": 4,
 "nbformat_minor": 2
}
