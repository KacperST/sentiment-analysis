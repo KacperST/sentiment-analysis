{
 "cells": [
  {
   "cell_type": "code",
   "execution_count": 32,
   "metadata": {},
   "outputs": [],
   "source": [
    "import pandas as pd    \n",
    "from os import walk"
   ]
  },
  {
   "cell_type": "code",
   "execution_count": 153,
   "metadata": {},
   "outputs": [
    {
     "data": {
      "text/plain": [
       "{'Lewis Hamilton': {'ham', 'hamilton', 'lewis'},\n",
       " 'George Russell': {'george', 'rus', 'russell'},\n",
       " 'Valtteri Bottas': {'bot', 'bottas', 'valtteri'},\n",
       " 'Guan Yu Zhou': {'guan yu', 'zho', 'zhou'},\n",
       " 'Max Verstappen': {'max', 'ver', 'verstappen'},\n",
       " 'Sergio Perez': {'checo', 'per', 'perez', 'sergio'},\n",
       " 'Lando Norris': {'lando', 'nor', 'norris'},\n",
       " 'Oscar Piastri': {'oscar', 'pia', 'piastri'},\n",
       " 'Daniel Ricciardo': {'daniel', 'danny', 'ric', 'ricciardo'},\n",
       " 'Yuko Tsunoda': {'tsu', 'tsunoda', 'yuki'},\n",
       " 'Carlos Sainz': {'carlos', 'sai', 'sainz'},\n",
       " 'Charles Leclerc': {'charles', 'lec', 'leclerc'},\n",
       " 'Fernando Alonso': {'alo', 'alonso', 'fernando', 'nando'},\n",
       " 'Lance Stroll': {'lance', 'str', 'stroll'},\n",
       " 'Esteban Ocon': {'esteban', 'oco', 'ocon'},\n",
       " 'Pierre Gasly': {'gas', 'gasly', 'pierre'},\n",
       " 'Alex Albon': {'alb', 'albon', 'alex'},\n",
       " 'Logan Sargeant': {'logan', 'sar', 'sargeant'},\n",
       " 'Niko Hulkenberg': {'hul', 'hulkenberg', 'nico'},\n",
       " 'Kevin Magnussen': {'kevin', 'mag', 'magnussen'}}"
      ]
     },
     "execution_count": 153,
     "metadata": {},
     "output_type": "execute_result"
    }
   ],
   "source": [
    "f1_drivers = {\n",
    "    'Lewis Hamilton': [\"Lewis\", \"Hamilton\", \"HAM\"],\n",
    "    'George Russell': [\"George\", \"Russell\", \"RUS\"],\n",
    "    'Valtteri Bottas': [\"Valtteri\", \"Bottas\", \"BOT\"],\n",
    "    \"Guan Yu Zhou\": [\"Guan Yu\", \"Zhou\", \"ZHO\"],\n",
    "    'Max Verstappen': [\"Max\", \"Verstappen\", \"VER\"],\n",
    "    'Sergio Perez': [\"Sergio\", \"Perez\", \"PER\", \"Checo\"],\n",
    "    'Lando Norris': [\"Lando\", \"Norris\", \"NOR\"],\n",
    "    'Oscar Piastri': [\"Oscar\", \"Piastri\", \"PIA\"],\n",
    "    'Daniel Ricciardo': [\"Daniel\", \"Ricciardo\", \"RIC\", \"Danny\"],\n",
    "    'Yuko Tsunoda': [\"Yuki\", \"Tsunoda\", \"TSU\"],\n",
    "    'Carlos Sainz': [\"Carlos\", \"Sainz\", \"SAI\", ],\n",
    "    'Charles Leclerc': [\"Charles\", \"Leclerc\", \"LEC\"],\n",
    "    'Fernando Alonso': [\"Fernando\", \"Alonso\", \"ALO\", \"Nando\"],\n",
    "    'Lance Stroll': [\"Lance\", \"Stroll\", \"STR\"],\n",
    "    'Esteban Ocon': [\"Esteban\", \"Ocon\", \"OCO\"],\n",
    "    'Pierre Gasly': [\"Pierre\", \"Gasly\", \"GAS\"],\n",
    "    'Alex Albon': [\"Alex\", \"Albon\", \"ALB\"],\n",
    "    'Logan Sargeant': [\"Logan\", \"Sargeant\", \"SAR\", ],\n",
    "    'Niko Hulkenberg': [\"Nico\", \"Hulkenberg\", \"HUL\"],\n",
    "    'Kevin Magnussen': [\"Kevin\", \"Magnussen\", \"MAG\"],\n",
    "}\n",
    "def preprocess_drivers(drivers):\n",
    "    return {driver: {alias.lower() for alias in aliases} for driver, aliases in drivers.items()}\n",
    "\n",
    "f1_drivers = preprocess_drivers(f1_drivers)\n",
    "f1_drivers"
   ]
  },
  {
   "cell_type": "code",
   "execution_count": 154,
   "metadata": {},
   "outputs": [],
   "source": [
    "def read_multiple_jsons(jsons: list[str]) -> pd.DataFrame:\n",
    "    return pd.concat([pd.read_json(json) for json in jsons])\n",
    "\n",
    "def get_files_from_dirextory(directory: str) -> list[str]:\n",
    "    return next(walk(\"2024_translated\"), (None, None, []))[2]"
   ]
  },
  {
   "cell_type": "code",
   "execution_count": 155,
   "metadata": {},
   "outputs": [],
   "source": [
    "directory = \"2024_translated\"\n",
    "json_files = get_files_from_dirextory(directory)\n",
    "json_files = [f\"{directory}/{file}\" for file in json_files]\n",
    "dataset = read_multiple_jsons(json_files)"
   ]
  },
  {
   "cell_type": "code",
   "execution_count": 156,
   "metadata": {},
   "outputs": [
    {
     "name": "stdout",
     "output_type": "stream",
     "text": [
      "                                                 text\n",
      "0   Fail of the day: Stroll. AKA Latifi & Magnusse...\n",
      "1   This why Ricc career is over... we see again t...\n",
      "2                                                0:19\n",
      "3          Hall Cynthia Jackson Kimberly Lewis Sharon\n",
      "4                                                   🔥\n",
      "5                Lee Ronald Hall Brenda Moore Jeffrey\n",
      "6   here after singapore gp 2024, oh how the table...\n",
      "7            Where's the scream of the engine gone? ❤\n",
      "8              Miller Angela Lewis Donald Davis Jason\n",
      "9   I'm a Red Bull fan, so when the FIA says nothi...\n",
      "10  Red Bull Racing's last grand prix dominance in...\n",
      "11  Magnuson and Hulkenberg are so overrated , the...\n",
      "12                 I rewatched this only for turn 1 😂\n",
      "13  Enjoying how Magnusson is such a menace, that ...\n",
      "14                 huge gap with norris, but now... 🙃\n",
      "94753\n"
     ]
    }
   ],
   "source": [
    "print(dataset.head(15))\n",
    "print(dataset.size)"
   ]
  },
  {
   "cell_type": "code",
   "execution_count": null,
   "metadata": {},
   "outputs": [],
   "source": [
    "# dataset = pd.read_json(\"data/dataset.json\")\n",
    "# dataset.head()\n",
    "# datase = dataset[[\"text\", \"sentiment\", \"afinn_score\", \"vader_score\"]]"
   ]
  },
  {
   "cell_type": "code",
   "execution_count": 157,
   "metadata": {},
   "outputs": [
    {
     "name": "stdout",
     "output_type": "stream",
     "text": [
      "text    0\n",
      "dtype: int64\n",
      "                                                 text\n",
      "0   Fail of the day: Stroll. AKA Latifi & Magnusse...\n",
      "1   This why Ricc career is over... we see again t...\n",
      "2                                                0:19\n",
      "3          Hall Cynthia Jackson Kimberly Lewis Sharon\n",
      "4                                                   🔥\n",
      "5                Lee Ronald Hall Brenda Moore Jeffrey\n",
      "6   here after singapore gp 2024, oh how the table...\n",
      "7            Where's the scream of the engine gone? ❤\n",
      "8              Miller Angela Lewis Donald Davis Jason\n",
      "9   I'm a Red Bull fan, so when the FIA says nothi...\n",
      "10  Red Bull Racing's last grand prix dominance in...\n",
      "11  Magnuson and Hulkenberg are so overrated , the...\n",
      "12                 I rewatched this only for turn 1 😂\n",
      "13  Enjoying how Magnusson is such a menace, that ...\n",
      "14                 huge gap with norris, but now... 🙃\n",
      "93793\n"
     ]
    }
   ],
   "source": [
    "dataset.dropna(inplace=True)\n",
    "dataset.reset_index(drop=True, inplace=True)\n",
    "dataset.head()\n",
    "print(dataset.isnull().sum())\n",
    "print(dataset.head(15))#\n",
    "print(dataset.size)"
   ]
  },
  {
   "cell_type": "code",
   "execution_count": 162,
   "metadata": {},
   "outputs": [
    {
     "data": {
      "text/html": [
       "<div>\n",
       "<style scoped>\n",
       "    .dataframe tbody tr th:only-of-type {\n",
       "        vertical-align: middle;\n",
       "    }\n",
       "\n",
       "    .dataframe tbody tr th {\n",
       "        vertical-align: top;\n",
       "    }\n",
       "\n",
       "    .dataframe thead th {\n",
       "        text-align: right;\n",
       "    }\n",
       "</style>\n",
       "<table border=\"1\" class=\"dataframe\">\n",
       "  <thead>\n",
       "    <tr style=\"text-align: right;\">\n",
       "      <th></th>\n",
       "      <th>text</th>\n",
       "      <th>drivers</th>\n",
       "    </tr>\n",
       "  </thead>\n",
       "  <tbody>\n",
       "    <tr>\n",
       "      <th>0</th>\n",
       "      <td>Fail of the day: Stroll. AKA Latifi &amp; Magnusse...</td>\n",
       "      <td>[Lance Stroll, Kevin Magnussen]</td>\n",
       "    </tr>\n",
       "    <tr>\n",
       "      <th>1</th>\n",
       "      <td>This why Ricc career is over... we see again t...</td>\n",
       "      <td>[Lance Stroll]</td>\n",
       "    </tr>\n",
       "    <tr>\n",
       "      <th>2</th>\n",
       "      <td>0:19</td>\n",
       "      <td>[]</td>\n",
       "    </tr>\n",
       "    <tr>\n",
       "      <th>3</th>\n",
       "      <td>Hall Cynthia Jackson Kimberly Lewis Sharon</td>\n",
       "      <td>[Lewis Hamilton]</td>\n",
       "    </tr>\n",
       "    <tr>\n",
       "      <th>4</th>\n",
       "      <td>🔥</td>\n",
       "      <td>[]</td>\n",
       "    </tr>\n",
       "    <tr>\n",
       "      <th>...</th>\n",
       "      <td>...</td>\n",
       "      <td>...</td>\n",
       "    </tr>\n",
       "    <tr>\n",
       "      <th>93788</th>\n",
       "      <td>robinhoodwinker8621 Haha Verstappen won 90% of...</td>\n",
       "      <td>[Max Verstappen, Lando Norris]</td>\n",
       "    </tr>\n",
       "    <tr>\n",
       "      <th>93789</th>\n",
       "      <td>askeladden450 Where is Perez ? Behind piastri ...</td>\n",
       "      <td>[Lando Norris, Oscar Piastri, Sergio Perez]</td>\n",
       "    </tr>\n",
       "    <tr>\n",
       "      <th>93790</th>\n",
       "      <td>@ThaDutchDK1989  1.) 2023 was a year ago\\n2.) ...</td>\n",
       "      <td>[]</td>\n",
       "    </tr>\n",
       "    <tr>\n",
       "      <th>93791</th>\n",
       "      <td>His cringe fans like him .. i mean sainz was p...</td>\n",
       "      <td>[Carlos Sainz, Charles Leclerc, Lewis Hamilton...</td>\n",
       "    </tr>\n",
       "    <tr>\n",
       "      <th>93792</th>\n",
       "      <td>Nice</td>\n",
       "      <td>[]</td>\n",
       "    </tr>\n",
       "  </tbody>\n",
       "</table>\n",
       "<p>93793 rows × 2 columns</p>\n",
       "</div>"
      ],
      "text/plain": [
       "                                                    text  \\\n",
       "0      Fail of the day: Stroll. AKA Latifi & Magnusse...   \n",
       "1      This why Ricc career is over... we see again t...   \n",
       "2                                                   0:19   \n",
       "3             Hall Cynthia Jackson Kimberly Lewis Sharon   \n",
       "4                                                      🔥   \n",
       "...                                                  ...   \n",
       "93788  robinhoodwinker8621 Haha Verstappen won 90% of...   \n",
       "93789  askeladden450 Where is Perez ? Behind piastri ...   \n",
       "93790  @ThaDutchDK1989  1.) 2023 was a year ago\\n2.) ...   \n",
       "93791  His cringe fans like him .. i mean sainz was p...   \n",
       "93792                                               Nice   \n",
       "\n",
       "                                                 drivers  \n",
       "0                        [Lance Stroll, Kevin Magnussen]  \n",
       "1                                         [Lance Stroll]  \n",
       "2                                                     []  \n",
       "3                                       [Lewis Hamilton]  \n",
       "4                                                     []  \n",
       "...                                                  ...  \n",
       "93788                     [Max Verstappen, Lando Norris]  \n",
       "93789        [Lando Norris, Oscar Piastri, Sergio Perez]  \n",
       "93790                                                 []  \n",
       "93791  [Carlos Sainz, Charles Leclerc, Lewis Hamilton...  \n",
       "93792                                                 []  \n",
       "\n",
       "[93793 rows x 2 columns]"
      ]
     },
     "execution_count": 162,
     "metadata": {},
     "output_type": "execute_result"
    }
   ],
   "source": [
    "import string\n",
    "def get_driver_names(comment, drivers):\n",
    "    comment = ''.join([x for x in comment if x in string.ascii_letters + '\\'- ']).lower().split()\n",
    "    res = []\n",
    "    for driver, aliases in drivers.items():\n",
    "        for alias in aliases:\n",
    "            if alias in comment:\n",
    "                res.append(driver)\n",
    "    return list(set(res))\n",
    "\n",
    "dataset['drivers'] = dataset['text'].apply(lambda x: get_driver_names(x, f1_drivers))\n",
    "# print(dataset[['text', 'contains_driver']])\n",
    "dataset"
   ]
  },
  {
   "cell_type": "code",
   "execution_count": 184,
   "metadata": {},
   "outputs": [
    {
     "name": "stdout",
     "output_type": "stream",
     "text": [
      "0\n"
     ]
    }
   ],
   "source": [
    "# print(dataset['drivers'].value_counts())\n",
    "# print(dataset['drivers'].value_counts().sum())\n",
    "# print(dataset[dataset.drivers.apply(len) ==  1].drivers.value_counts())\n",
    "# print(dataset[dataset.drivers.apply(len) ==  1].drivers.value_counts().sum())\n",
    "dataset = dataset[dataset.drivers.apply(len) <=  1]\n",
    "dataset.head(15)\n",
    "# dataset.to_json(\"data/dataset_with_drivers.json\", orient=\"records\")\n",
    "print(dataset.text.isnull().sum())\n"
   ]
  },
  {
   "cell_type": "code",
   "execution_count": 17,
   "metadata": {},
   "outputs": [],
   "source": [
    "import spacy\n",
    "\n",
    "# Load the spaCy model\n",
    "nlp = spacy.load(\"en_core_web_sm\")\n",
    "\n",
    "# Precompute lowercase aliases for faster lookup\n",
    "def preprocess_drivers(drivers):\n",
    "    return {driver: [alias.lower() for alias in aliases] for driver, aliases in drivers.items()}\n",
    "\n",
    "# Define a function to find all matching driver names in a comment\n",
    "def get_driver_names(comment, drivers):\n",
    "    doc = nlp(comment)\n",
    "    matched_drivers = list(set([driver for ent in doc.ents for driver, aliases in drivers.items() if ent.text.lower() in aliases]))\n",
    "    return matched_drivers\n",
    "\n",
    "# Preprocess drivers\n",
    "drivers = preprocess_drivers(f1_drivers)\n",
    "\n",
    "# Apply the function to your dataset\n",
    "dataset['drivers'] = dataset.apply(lambda row: get_driver_names(row['text'], drivers) if row['contains_driver'] else list(), axis=1)"
   ]
  },
  {
   "cell_type": "code",
   "execution_count": 27,
   "metadata": {},
   "outputs": [
    {
     "data": {
      "text/plain": [
       "19507"
      ]
     },
     "execution_count": 27,
     "metadata": {},
     "output_type": "execute_result"
    }
   ],
   "source": [
    "# print(dataset.drivers.value_counts())\n",
    "# print(dataset.drivers.value_counts().sum() - 67569)\n",
    "\n",
    "dataset.drivers.value_counts().sum() - 67144"
   ]
  },
  {
   "cell_type": "code",
   "execution_count": 133,
   "metadata": {},
   "outputs": [],
   "source": [
    "\n",
    "def get_driver_names_without_spacy(comment, drivers):\n",
    "    matched_drivers = list(set([driver for driver, aliases in drivers.items() for alias in aliases if alias in comment.lower()]))\n",
    "    return matched_drivers\n",
    "\n",
    "dataset['drivers'] = dataset.apply(lambda row: get_driver_names_without_spacy(row['text'], drivers) if row['contains_driver'] else list(), axis=1)"
   ]
  },
  {
   "cell_type": "code",
   "execution_count": null,
   "metadata": {},
   "outputs": [
    {
     "data": {
      "text/html": [
       "<div>\n",
       "<style scoped>\n",
       "    .dataframe tbody tr th:only-of-type {\n",
       "        vertical-align: middle;\n",
       "    }\n",
       "\n",
       "    .dataframe tbody tr th {\n",
       "        vertical-align: top;\n",
       "    }\n",
       "\n",
       "    .dataframe thead th {\n",
       "        text-align: right;\n",
       "    }\n",
       "</style>\n",
       "<table border=\"1\" class=\"dataframe\">\n",
       "  <thead>\n",
       "    <tr style=\"text-align: right;\">\n",
       "      <th></th>\n",
       "      <th>text</th>\n",
       "      <th>contains_driver</th>\n",
       "      <th>drivers_no_spacy</th>\n",
       "      <th>drivers</th>\n",
       "    </tr>\n",
       "  </thead>\n",
       "  <tbody>\n",
       "    <tr>\n",
       "      <th>74497</th>\n",
       "      <td>F1 drivers standings:\\r\\n\\r\\n1. Max Verstappen...</td>\n",
       "      <td>True</td>\n",
       "      <td>[Oscar Piastri, Carlos Sainz, Lando Norris, Ni...</td>\n",
       "      <td>[Oscar Piastri, Carlos Sainz, Lando Norris, Ni...</td>\n",
       "    </tr>\n",
       "    <tr>\n",
       "      <th>75090</th>\n",
       "      <td>F1 drivers standings:\\r\\n\\r\\n1. Max Verstappen...</td>\n",
       "      <td>True</td>\n",
       "      <td>[Oscar Piastri, Carlos Sainz, Lando Norris, Ni...</td>\n",
       "      <td>[Oscar Piastri, Carlos Sainz, Lando Norris, Ni...</td>\n",
       "    </tr>\n",
       "    <tr>\n",
       "      <th>57294</th>\n",
       "      <td>2023 + 2024 Driver Standing Combined\\n1. Max V...</td>\n",
       "      <td>True</td>\n",
       "      <td>[Oscar Piastri, Carlos Sainz, Lando Norris, Ni...</td>\n",
       "      <td>[Oscar Piastri, Carlos Sainz, Lando Norris, Ni...</td>\n",
       "    </tr>\n",
       "    <tr>\n",
       "      <th>85988</th>\n",
       "      <td>My current form driver ratings\\n\\nTop 3: VER, ...</td>\n",
       "      <td>True</td>\n",
       "      <td>[Oscar Piastri, Carlos Sainz, Lando Norris, Ni...</td>\n",
       "      <td>[Oscar Piastri, Carlos Sainz, Lando Norris, Ni...</td>\n",
       "    </tr>\n",
       "    <tr>\n",
       "      <th>11921</th>\n",
       "      <td>F1 drivers standings:\\r\\n\\r\\n1. Max Verstappen...</td>\n",
       "      <td>True</td>\n",
       "      <td>[Oscar Piastri, Carlos Sainz, Lando Norris, Ni...</td>\n",
       "      <td>[Oscar Piastri, Carlos Sainz, Lando Norris, Ni...</td>\n",
       "    </tr>\n",
       "    <tr>\n",
       "      <th>1608</th>\n",
       "      <td>Race results for team mates so far:\\nRussell 5...</td>\n",
       "      <td>True</td>\n",
       "      <td>[Oscar Piastri, Carlos Sainz, Lando Norris, Ma...</td>\n",
       "      <td>[Oscar Piastri, Carlos Sainz, Lando Norris, Ma...</td>\n",
       "    </tr>\n",
       "    <tr>\n",
       "      <th>66497</th>\n",
       "      <td>To category everything - First start RB sleep ...</td>\n",
       "      <td>True</td>\n",
       "      <td>[Charles Leclerc, Carlos Sainz, Fernando Alons...</td>\n",
       "      <td>[Charles Leclerc, Carlos Sainz, Fernando Alons...</td>\n",
       "    </tr>\n",
       "    <tr>\n",
       "      <th>28314</th>\n",
       "      <td>In now 8 years Baku never disappointed, Bearma...</td>\n",
       "      <td>True</td>\n",
       "      <td>[Oscar Piastri, Carlos Sainz, Fernando Alonso,...</td>\n",
       "      <td>[Oscar Piastri, Carlos Sainz, Fernando Alonso,...</td>\n",
       "    </tr>\n",
       "    <tr>\n",
       "      <th>45218</th>\n",
       "      <td>Incredible what even an small cut off visior c...</td>\n",
       "      <td>True</td>\n",
       "      <td>[Oscar Piastri, Carlos Sainz, Fernando Alonso,...</td>\n",
       "      <td>[Oscar Piastri, Carlos Sainz, Fernando Alonso,...</td>\n",
       "    </tr>\n",
       "    <tr>\n",
       "      <th>90821</th>\n",
       "      <td>Race start and early lead changes\\r\\nVerstappe...</td>\n",
       "      <td>True</td>\n",
       "      <td>[Oscar Piastri, Charles Leclerc, Carlos Sainz,...</td>\n",
       "      <td>[Oscar Piastri, Charles Leclerc, Carlos Sainz,...</td>\n",
       "    </tr>\n",
       "    <tr>\n",
       "      <th>60214</th>\n",
       "      <td>Kmag tries something but it turned into real c...</td>\n",
       "      <td>True</td>\n",
       "      <td>[Oscar Piastri, Charles Leclerc, Carlos Sainz,...</td>\n",
       "      <td>[Oscar Piastri, Charles Leclerc, Carlos Sainz,...</td>\n",
       "    </tr>\n",
       "    <tr>\n",
       "      <th>64267</th>\n",
       "      <td>F1 Monaco GP 2024 highlights: \\nPiastri-Lecler...</td>\n",
       "      <td>True</td>\n",
       "      <td>[Oscar Piastri, Charles Leclerc, Carlos Sainz,...</td>\n",
       "      <td>[Oscar Piastri, Charles Leclerc, Carlos Sainz,...</td>\n",
       "    </tr>\n",
       "    <tr>\n",
       "      <th>83055</th>\n",
       "      <td>2021: Verstappen, Hamilton, Bottas, Perez, Oco...</td>\n",
       "      <td>True</td>\n",
       "      <td>[Oscar Piastri, Charles Leclerc, Carlos Sainz,...</td>\n",
       "      <td>[Oscar Piastri, Charles Leclerc, Carlos Sainz,...</td>\n",
       "    </tr>\n",
       "    <tr>\n",
       "      <th>58832</th>\n",
       "      <td>The H in Hungary stands for history so does to...</td>\n",
       "      <td>True</td>\n",
       "      <td>[Oscar Piastri, Charles Leclerc, Carlos Sainz,...</td>\n",
       "      <td>[Oscar Piastri, Charles Leclerc, Carlos Sainz,...</td>\n",
       "    </tr>\n",
       "    <tr>\n",
       "      <th>4983</th>\n",
       "      <td>For those who aren't appreciating F1 right now...</td>\n",
       "      <td>True</td>\n",
       "      <td>[Oscar Piastri, Charles Leclerc, Carlos Sainz,...</td>\n",
       "      <td>[Oscar Piastri, Charles Leclerc, Carlos Sainz,...</td>\n",
       "    </tr>\n",
       "  </tbody>\n",
       "</table>\n",
       "</div>"
      ],
      "text/plain": [
       "                                                    text  contains_driver  \\\n",
       "74497  F1 drivers standings:\\r\\n\\r\\n1. Max Verstappen...             True   \n",
       "75090  F1 drivers standings:\\r\\n\\r\\n1. Max Verstappen...             True   \n",
       "57294  2023 + 2024 Driver Standing Combined\\n1. Max V...             True   \n",
       "85988  My current form driver ratings\\n\\nTop 3: VER, ...             True   \n",
       "11921  F1 drivers standings:\\r\\n\\r\\n1. Max Verstappen...             True   \n",
       "1608   Race results for team mates so far:\\nRussell 5...             True   \n",
       "66497  To category everything - First start RB sleep ...             True   \n",
       "28314  In now 8 years Baku never disappointed, Bearma...             True   \n",
       "45218  Incredible what even an small cut off visior c...             True   \n",
       "90821  Race start and early lead changes\\r\\nVerstappe...             True   \n",
       "60214  Kmag tries something but it turned into real c...             True   \n",
       "64267  F1 Monaco GP 2024 highlights: \\nPiastri-Lecler...             True   \n",
       "83055  2021: Verstappen, Hamilton, Bottas, Perez, Oco...             True   \n",
       "58832  The H in Hungary stands for history so does to...             True   \n",
       "4983   For those who aren't appreciating F1 right now...             True   \n",
       "\n",
       "                                        drivers_no_spacy  \\\n",
       "74497  [Oscar Piastri, Carlos Sainz, Lando Norris, Ni...   \n",
       "75090  [Oscar Piastri, Carlos Sainz, Lando Norris, Ni...   \n",
       "57294  [Oscar Piastri, Carlos Sainz, Lando Norris, Ni...   \n",
       "85988  [Oscar Piastri, Carlos Sainz, Lando Norris, Ni...   \n",
       "11921  [Oscar Piastri, Carlos Sainz, Lando Norris, Ni...   \n",
       "1608   [Oscar Piastri, Carlos Sainz, Lando Norris, Ma...   \n",
       "66497  [Charles Leclerc, Carlos Sainz, Fernando Alons...   \n",
       "28314  [Oscar Piastri, Carlos Sainz, Fernando Alonso,...   \n",
       "45218  [Oscar Piastri, Carlos Sainz, Fernando Alonso,...   \n",
       "90821  [Oscar Piastri, Charles Leclerc, Carlos Sainz,...   \n",
       "60214  [Oscar Piastri, Charles Leclerc, Carlos Sainz,...   \n",
       "64267  [Oscar Piastri, Charles Leclerc, Carlos Sainz,...   \n",
       "83055  [Oscar Piastri, Charles Leclerc, Carlos Sainz,...   \n",
       "58832  [Oscar Piastri, Charles Leclerc, Carlos Sainz,...   \n",
       "4983   [Oscar Piastri, Charles Leclerc, Carlos Sainz,...   \n",
       "\n",
       "                                                 drivers  \n",
       "74497  [Oscar Piastri, Carlos Sainz, Lando Norris, Ni...  \n",
       "75090  [Oscar Piastri, Carlos Sainz, Lando Norris, Ni...  \n",
       "57294  [Oscar Piastri, Carlos Sainz, Lando Norris, Ni...  \n",
       "85988  [Oscar Piastri, Carlos Sainz, Lando Norris, Ni...  \n",
       "11921  [Oscar Piastri, Carlos Sainz, Lando Norris, Ni...  \n",
       "1608   [Oscar Piastri, Carlos Sainz, Lando Norris, Ma...  \n",
       "66497  [Charles Leclerc, Carlos Sainz, Fernando Alons...  \n",
       "28314  [Oscar Piastri, Carlos Sainz, Fernando Alonso,...  \n",
       "45218  [Oscar Piastri, Carlos Sainz, Fernando Alonso,...  \n",
       "90821  [Oscar Piastri, Charles Leclerc, Carlos Sainz,...  \n",
       "60214  [Oscar Piastri, Charles Leclerc, Carlos Sainz,...  \n",
       "64267  [Oscar Piastri, Charles Leclerc, Carlos Sainz,...  \n",
       "83055  [Oscar Piastri, Charles Leclerc, Carlos Sainz,...  \n",
       "58832  [Oscar Piastri, Charles Leclerc, Carlos Sainz,...  \n",
       "4983   [Oscar Piastri, Charles Leclerc, Carlos Sainz,...  "
      ]
     },
     "execution_count": 138,
     "metadata": {},
     "output_type": "execute_result"
    }
   ],
   "source": [
    "# dataset.sort_values(by=\"drivers\" ,key=lambda x: x.apply(len), ascending=False).head(15)"
   ]
  },
  {
   "cell_type": "code",
   "execution_count": 139,
   "metadata": {},
   "outputs": [],
   "source": [
    "dataset.drop(columns=['contains_driver', \"drivers_no_spacy\"], inplace=True)\n",
    "dataset.to_json(\"data/dataset_with_drivers.json\", orient=\"records\")\n"
   ]
  },
  {
   "cell_type": "code",
   "execution_count": 104,
   "metadata": {},
   "outputs": [
    {
     "name": "stdout",
     "output_type": "stream",
     "text": [
      "69984\n"
     ]
    }
   ],
   "source": [
    "dataset = dataset[dataset.drivers.apply(len) <= 1]\n",
    "dataset.reset_index(drop=True, inplace=True)\n",
    "print(dataset.drivers.value_counts().sum())\n",
    "dataset.drivers.value_counts()\n",
    "dataset.to_json(\"data/dataset_with_drivers.json\", orient=\"records\")"
   ]
  },
  {
   "cell_type": "code",
   "execution_count": 105,
   "metadata": {},
   "outputs": [],
   "source": [
    "# # Define the set of drivers to filter\n",
    "# target_drivers = {\"Lando Norris\", \"Carlos Sainz\", \"George Russell\", \"Lewis Hamilton\", \"Oscar Piastri\"}\n",
    "\n",
    "# # Filter the dataset using where\n",
    "# filtered_dataset = dataset.where(dataset['drivers'].apply(lambda x: target_drivers == x)).dropna()\n",
    "\n",
    "# # Print the filtered dataset\n",
    "# filtered_dataset = filtered_dataset.explode('drivers')\n",
    "# filtered_dataset.head()\n"
   ]
  },
  {
   "cell_type": "code",
   "execution_count": 106,
   "metadata": {},
   "outputs": [
    {
     "data": {
      "text/html": [
       "<div>\n",
       "<style scoped>\n",
       "    .dataframe tbody tr th:only-of-type {\n",
       "        vertical-align: middle;\n",
       "    }\n",
       "\n",
       "    .dataframe tbody tr th {\n",
       "        vertical-align: top;\n",
       "    }\n",
       "\n",
       "    .dataframe thead th {\n",
       "        text-align: right;\n",
       "    }\n",
       "</style>\n",
       "<table border=\"1\" class=\"dataframe\">\n",
       "  <thead>\n",
       "    <tr style=\"text-align: right;\">\n",
       "      <th></th>\n",
       "      <th>text</th>\n",
       "      <th>drivers</th>\n",
       "    </tr>\n",
       "  </thead>\n",
       "  <tbody>\n",
       "    <tr>\n",
       "      <th>31</th>\n",
       "      <td>F1 is very underrated</td>\n",
       "      <td>[Max Verstappen]</td>\n",
       "    </tr>\n",
       "  </tbody>\n",
       "</table>\n",
       "</div>"
      ],
      "text/plain": [
       "                     text           drivers\n",
       "31  F1 is very underrated  [Max Verstappen]"
      ]
     },
     "execution_count": 106,
     "metadata": {},
     "output_type": "execute_result"
    }
   ],
   "source": [
    "dataset[dataset.text == \"F1 is very underrated\"]"
   ]
  }
 ],
 "metadata": {
  "kernelspec": {
   "display_name": "venv",
   "language": "python",
   "name": "python3"
  },
  "language_info": {
   "codemirror_mode": {
    "name": "ipython",
    "version": 3
   },
   "file_extension": ".py",
   "mimetype": "text/x-python",
   "name": "python",
   "nbconvert_exporter": "python",
   "pygments_lexer": "ipython3",
   "version": "3.12.3"
  }
 },
 "nbformat": 4,
 "nbformat_minor": 2
}
