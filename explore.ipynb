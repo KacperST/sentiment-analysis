{
 "cells": [
  {
   "cell_type": "code",
   "execution_count": 3,
   "metadata": {},
   "outputs": [],
   "source": [
    "import pandas as pd    "
   ]
  },
  {
   "cell_type": "code",
   "execution_count": 31,
   "metadata": {},
   "outputs": [],
   "source": [
    "f1_drivers = {\n",
    "    'Lewis Hamilton': [\"Lewis\", \"Hamilton\", \"HAM\"],\n",
    "    'George Russell': [\"George\", \"Russell\", \"RUS\"],\n",
    "    'Valtteri Bottas': [\"Valtteri\", \"Bottas\", \"BOT\"],\n",
    "    \"Guan Yu Zhou\": [\"Guan Yu\", \"Zhou\", \"ZHO\"],\n",
    "    'Max Verstappen': [\"Max\", \"Verstappen\", \"VER\"],\n",
    "    'Sergio Perez': [\"Sergio\", \"Perez\", \"PER\", \"Checo\"],\n",
    "    'Lando Norris': [\"Lando\", \"Norris\", \"NOR\", ],\n",
    "    'Oscar Piastri': [\"Oscar\", \"Piastri\", \"PIA\"],\n",
    "    'Daniel Ricciardo': [\"Daniel\", \"Ricciardo\", \"RIC\", \"Danny\", \"Ric\"],\n",
    "    'Yuko Tsunoda': [\"Yuki\", \"Tsunoda\", \"TSU\"],\n",
    "    'Carlos Sainz': [\"Carlos\", \"Sainz\", \"SAI\", ],\n",
    "    'Charles Leclerc': [\"Charles\", \"Leclerc\", \"LEC\"],\n",
    "    'Fernando Alonso': [\"Fernando\", \"Alonso\", \"ALO\", \"Nando\"],\n",
    "    'Lance Stroll': [\"Lance\", \"Stroll\", \"STR\"],\n",
    "    'Esteban Ocon': [\"Esteban\", \"Ocon\", \"OCO\"],\n",
    "    'Pierre Gasly': [\"Pierre\", \"Gasly\", \"GAS\"],\n",
    "    'Alex Albon': [\"Alex\", \"Albon\", \"ALB\"],\n",
    "    'Logan Sargeant': [\"Logan\", \"Sargeant\", \"SAR\", ],\n",
    "    'Niko Hulkenberg': [\"Nico\", \"Hulkenberg\", \"HUL\"],\n",
    "    'Kevin Magnussen': [\"Kevin\", \"Magnussen\", \"MAG\"],\n",
    "}"
   ]
  },
  {
   "cell_type": "code",
   "execution_count": 5,
   "metadata": {},
   "outputs": [],
   "source": [
    "dataset = pd.read_json(\"2024_translated/azerbaijan_grand_prix.json\")"
   ]
  },
  {
   "cell_type": "code",
   "execution_count": 13,
   "metadata": {},
   "outputs": [
    {
     "name": "stdout",
     "output_type": "stream",
     "text": [
      "text    0\n",
      "dtype: int64\n"
     ]
    }
   ],
   "source": [
    "dataset.head()\n",
    "print(dataset.isnull().sum())"
   ]
  },
  {
   "cell_type": "code",
   "execution_count": 15,
   "metadata": {},
   "outputs": [
    {
     "name": "stdout",
     "output_type": "stream",
     "text": [
      "text    0\n",
      "dtype: int64\n"
     ]
    }
   ],
   "source": [
    "dataset.dropna(inplace=True)\n",
    "dataset.reset_index(drop=True, inplace=True)\n",
    "dataset.head()\n",
    "print(dataset.isnull().sum())"
   ]
  },
  {
   "cell_type": "code",
   "execution_count": 19,
   "metadata": {},
   "outputs": [
    {
     "name": "stdout",
     "output_type": "stream",
     "text": [
      "                                                   text  contains_driver\n",
      "0                                        Kelley Islands            False\n",
      "1       The only reason Hamilton dominated was the car.             True\n",
      "2     Should trade Lewis to McLaren and get Lando 😮 ...             True\n",
      "3           I feel like this is Carlos' first crash.😭😭😭             True\n",
      "4                                            Terry Dale            False\n",
      "...                                                 ...              ...\n",
      "7421                                               Nope            False\n",
      "7422                                              Drink            False\n",
      "7423  A foolish drive again from Crashloss...  just ...            False\n",
      "7424                                  What do you mean?            False\n",
      "7425                                             Urge s            False\n",
      "\n",
      "[7426 rows x 2 columns]\n"
     ]
    }
   ],
   "source": [
    "def check_driver_in_comment(comment, drivers):\n",
    "    for driver in drivers:\n",
    "        if any(word in comment for word in driver.split(\" \")):\n",
    "            return True\n",
    "    return False\n",
    "\n",
    "dataset['contains_driver'] = dataset['text'].apply(lambda x: check_driver_in_comment(x, f1_drivers))\n",
    "print(dataset[['text', 'contains_driver']])"
   ]
  },
  {
   "cell_type": "code",
   "execution_count": 20,
   "metadata": {},
   "outputs": [
    {
     "name": "stdout",
     "output_type": "stream",
     "text": [
      "contains_driver\n",
      "False    4418\n",
      "True     3008\n",
      "Name: count, dtype: int64\n"
     ]
    }
   ],
   "source": [
    "print(dataset['contains_driver'].value_counts())"
   ]
  },
  {
   "cell_type": "code",
   "execution_count": 51,
   "metadata": {},
   "outputs": [
    {
     "name": "stdout",
     "output_type": "stream",
     "text": [
      "                                                   text  \\\n",
      "0                                        Kelley Islands   \n",
      "1       The only reason Hamilton dominated was the car.   \n",
      "2     Should trade Lewis to McLaren and get Lando 😮 ...   \n",
      "3           I feel like this is Carlos' first crash.😭😭😭   \n",
      "4                                            Terry Dale   \n",
      "...                                                 ...   \n",
      "7421                                               Nope   \n",
      "7422                                              Drink   \n",
      "7423  A foolish drive again from Crashloss...  just ...   \n",
      "7424                                  What do you mean?   \n",
      "7425                                             Urge s   \n",
      "\n",
      "                             drivers  \n",
      "0                                 {}  \n",
      "1                   {Lewis Hamilton}  \n",
      "2     {Lewis Hamilton, Lando Norris}  \n",
      "3                     {Carlos Sainz}  \n",
      "4                                 {}  \n",
      "...                              ...  \n",
      "7421                              {}  \n",
      "7422                              {}  \n",
      "7423                              {}  \n",
      "7424                              {}  \n",
      "7425                              {}  \n",
      "\n",
      "[7426 rows x 2 columns]\n"
     ]
    }
   ],
   "source": [
    "import spacy\n",
    "\n",
    "\n",
    "# Load the spaCy model\n",
    "nlp = spacy.load(\"en_core_web_sm\")\n",
    "\n",
    "# Define a function to find all matching driver names in a comment\n",
    "def get_driver_names(comment, drivers=f1_drivers):\n",
    "    doc = nlp(comment)\n",
    "    matched_drivers = []\n",
    "    for ent in doc.ents:\n",
    "        for driver, aliases in drivers.items():\n",
    "            if ent.text.lower() in [alias.lower() for alias in aliases]:\n",
    "                matched_drivers.append(driver)\n",
    "    return set(matched_drivers)\n",
    "\n",
    "# Apply the function to your dataset\n",
    "dataset['drivers'] = dataset['text'].apply(lambda x: get_driver_names(x))\n",
    "\n",
    "# Print the dataset to verify the results\n",
    "print(dataset[['text', 'drivers']])"
   ]
  },
  {
   "cell_type": "code",
   "execution_count": 52,
   "metadata": {},
   "outputs": [
    {
     "name": "stdout",
     "output_type": "stream",
     "text": [
      "drivers\n",
      "{}                                                                             4790\n",
      "{Sergio Perez}                                                                  458\n",
      "{Oscar Piastri}                                                                 362\n",
      "{Carlos Sainz, Sergio Perez}                                                    356\n",
      "{Carlos Sainz}                                                                  353\n",
      "                                                                               ... \n",
      "{Logan Sargeant, Lando Norris, Oscar Piastri, Charles Leclerc}                    1\n",
      "{Daniel Ricciardo, Oscar Piastri, Charles Leclerc}                                1\n",
      "{Carlos Sainz, Lance Stroll, Yuko Tsunoda}                                        1\n",
      "{Lando Norris, Carlos Sainz, George Russell, Lewis Hamilton, Oscar Piastri}       1\n",
      "{Lewis Hamilton, Pierre Gasly}                                                    1\n",
      "Name: count, Length: 132, dtype: int64\n",
      "2636\n"
     ]
    }
   ],
   "source": [
    "print(dataset.drivers.value_counts())\n",
    "print(dataset.drivers.value_counts().sum() - 4790)"
   ]
  },
  {
   "cell_type": "code",
   "execution_count": 53,
   "metadata": {},
   "outputs": [
    {
     "data": {
      "text/html": [
       "<div>\n",
       "<style scoped>\n",
       "    .dataframe tbody tr th:only-of-type {\n",
       "        vertical-align: middle;\n",
       "    }\n",
       "\n",
       "    .dataframe tbody tr th {\n",
       "        vertical-align: top;\n",
       "    }\n",
       "\n",
       "    .dataframe thead th {\n",
       "        text-align: right;\n",
       "    }\n",
       "</style>\n",
       "<table border=\"1\" class=\"dataframe\">\n",
       "  <thead>\n",
       "    <tr style=\"text-align: right;\">\n",
       "      <th></th>\n",
       "      <th>text</th>\n",
       "      <th>contains_driver</th>\n",
       "      <th>drivers</th>\n",
       "    </tr>\n",
       "  </thead>\n",
       "  <tbody>\n",
       "    <tr>\n",
       "      <th>0</th>\n",
       "      <td>Kelley Islands</td>\n",
       "      <td>False</td>\n",
       "      <td>{}</td>\n",
       "    </tr>\n",
       "    <tr>\n",
       "      <th>1</th>\n",
       "      <td>The only reason Hamilton dominated was the car.</td>\n",
       "      <td>True</td>\n",
       "      <td>{Lewis Hamilton}</td>\n",
       "    </tr>\n",
       "    <tr>\n",
       "      <th>2</th>\n",
       "      <td>Should trade Lewis to McLaren and get Lando 😮 ...</td>\n",
       "      <td>True</td>\n",
       "      <td>{Lewis Hamilton, Lando Norris}</td>\n",
       "    </tr>\n",
       "    <tr>\n",
       "      <th>3</th>\n",
       "      <td>I feel like this is Carlos' first crash.😭😭😭</td>\n",
       "      <td>True</td>\n",
       "      <td>{Carlos Sainz}</td>\n",
       "    </tr>\n",
       "    <tr>\n",
       "      <th>4</th>\n",
       "      <td>Terry Dale</td>\n",
       "      <td>False</td>\n",
       "      <td>{}</td>\n",
       "    </tr>\n",
       "    <tr>\n",
       "      <th>5</th>\n",
       "      <td>Zander Parkways</td>\n",
       "      <td>False</td>\n",
       "      <td>{}</td>\n",
       "    </tr>\n",
       "    <tr>\n",
       "      <th>6</th>\n",
       "      <td>Thomas George Jones Barbara Wilson Kimberly</td>\n",
       "      <td>True</td>\n",
       "      <td>{}</td>\n",
       "    </tr>\n",
       "    <tr>\n",
       "      <th>7</th>\n",
       "      <td>Graham Station</td>\n",
       "      <td>False</td>\n",
       "      <td>{}</td>\n",
       "    </tr>\n",
       "    <tr>\n",
       "      <th>8</th>\n",
       "      <td>I race for Ferrari, F1 2023 so much fun, it's ...</td>\n",
       "      <td>False</td>\n",
       "      <td>{}</td>\n",
       "    </tr>\n",
       "    <tr>\n",
       "      <th>9</th>\n",
       "      <td>6:09 Accidents happen in milliseconds.</td>\n",
       "      <td>False</td>\n",
       "      <td>{}</td>\n",
       "    </tr>\n",
       "  </tbody>\n",
       "</table>\n",
       "</div>"
      ],
      "text/plain": [
       "                                                text  contains_driver  \\\n",
       "0                                     Kelley Islands            False   \n",
       "1    The only reason Hamilton dominated was the car.             True   \n",
       "2  Should trade Lewis to McLaren and get Lando 😮 ...             True   \n",
       "3        I feel like this is Carlos' first crash.😭😭😭             True   \n",
       "4                                         Terry Dale            False   \n",
       "5                                    Zander Parkways            False   \n",
       "6        Thomas George Jones Barbara Wilson Kimberly             True   \n",
       "7                                     Graham Station            False   \n",
       "8  I race for Ferrari, F1 2023 so much fun, it's ...            False   \n",
       "9             6:09 Accidents happen in milliseconds.            False   \n",
       "\n",
       "                          drivers  \n",
       "0                              {}  \n",
       "1                {Lewis Hamilton}  \n",
       "2  {Lewis Hamilton, Lando Norris}  \n",
       "3                  {Carlos Sainz}  \n",
       "4                              {}  \n",
       "5                              {}  \n",
       "6                              {}  \n",
       "7                              {}  \n",
       "8                              {}  \n",
       "9                              {}  "
      ]
     },
     "execution_count": 53,
     "metadata": {},
     "output_type": "execute_result"
    }
   ],
   "source": [
    "dataset.head(10)"
   ]
  },
  {
   "cell_type": "code",
   "execution_count": 58,
   "metadata": {},
   "outputs": [
    {
     "name": "stdout",
     "output_type": "stream",
     "text": [
      "[\"Excellent victory by Piastri, he did very well for me as the driver of the day!! Percival once again failed to convert the pole position into a victory, but he finished in P2, that's fine. Russell was there at the right time and won P3!! Vespa and Hamilton's equipment didn't help today, it was a race well below theirs. Norris silenced the critics, good recovery!! The badass P6 had a lonely race but managed to get good points for Aston and even finished ahead of a Mercedes. The Williams were very good, great race by the duo and Bearman was also very good!!! Sainz and Checo Perez for me it was a racing incident, they were both having a good race and unfortunately had this misfortune. The race was very good, I liked it.\"]\n"
     ]
    }
   ],
   "source": [
    "# Define the set of drivers to filter\n",
    "target_drivers = {\"Lando Norris\", \"Carlos Sainz\", \"George Russell\", \"Lewis Hamilton\", \"Oscar Piastri\"}\n",
    "\n",
    "# Filter the dataset using where\n",
    "filtered_dataset = dataset.where(dataset['drivers'].apply(lambda x: target_drivers == x)).dropna()\n",
    "\n",
    "# Print the filtered dataset\n",
    "print(filtered_dataset.text.values)"
   ]
  }
 ],
 "metadata": {
  "kernelspec": {
   "display_name": "venv",
   "language": "python",
   "name": "python3"
  },
  "language_info": {
   "codemirror_mode": {
    "name": "ipython",
    "version": 3
   },
   "file_extension": ".py",
   "mimetype": "text/x-python",
   "name": "python",
   "nbconvert_exporter": "python",
   "pygments_lexer": "ipython3",
   "version": "3.11.4"
  }
 },
 "nbformat": 4,
 "nbformat_minor": 2
}
