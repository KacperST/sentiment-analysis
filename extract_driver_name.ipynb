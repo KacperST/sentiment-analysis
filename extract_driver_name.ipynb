{
 "cells": [
  {
   "cell_type": "code",
   "execution_count": 32,
   "metadata": {},
   "outputs": [],
   "source": [
    "import pandas as pd    \n",
    "from os import walk"
   ]
  },
  {
   "cell_type": "code",
   "execution_count": 153,
   "metadata": {},
   "outputs": [
    {
     "data": {
      "text/plain": [
       "{'Lewis Hamilton': {'ham', 'hamilton', 'lewis'},\n",
       " 'George Russell': {'george', 'rus', 'russell'},\n",
       " 'Valtteri Bottas': {'bot', 'bottas', 'valtteri'},\n",
       " 'Guan Yu Zhou': {'guan yu', 'zho', 'zhou'},\n",
       " 'Max Verstappen': {'max', 'ver', 'verstappen'},\n",
       " 'Sergio Perez': {'checo', 'per', 'perez', 'sergio'},\n",
       " 'Lando Norris': {'lando', 'nor', 'norris'},\n",
       " 'Oscar Piastri': {'oscar', 'pia', 'piastri'},\n",
       " 'Daniel Ricciardo': {'daniel', 'danny', 'ric', 'ricciardo'},\n",
       " 'Yuko Tsunoda': {'tsu', 'tsunoda', 'yuki'},\n",
       " 'Carlos Sainz': {'carlos', 'sai', 'sainz'},\n",
       " 'Charles Leclerc': {'charles', 'lec', 'leclerc'},\n",
       " 'Fernando Alonso': {'alo', 'alonso', 'fernando', 'nando'},\n",
       " 'Lance Stroll': {'lance', 'str', 'stroll'},\n",
       " 'Esteban Ocon': {'esteban', 'oco', 'ocon'},\n",
       " 'Pierre Gasly': {'gas', 'gasly', 'pierre'},\n",
       " 'Alex Albon': {'alb', 'albon', 'alex'},\n",
       " 'Logan Sargeant': {'logan', 'sar', 'sargeant'},\n",
       " 'Niko Hulkenberg': {'hul', 'hulkenberg', 'nico'},\n",
       " 'Kevin Magnussen': {'kevin', 'mag', 'magnussen'}}"
      ]
     },
     "execution_count": 153,
     "metadata": {},
     "output_type": "execute_result"
    }
   ],
   "source": [
    "f1_drivers = {\n",
    "    'Lewis Hamilton': [\"Lewis\", \"Hamilton\", \"HAM\"],\n",
    "    'George Russell': [\"George\", \"Russell\", \"RUS\"],\n",
    "    'Valtteri Bottas': [\"Valtteri\", \"Bottas\", \"BOT\"],\n",
    "    \"Guan Yu Zhou\": [\"Guan Yu\", \"Zhou\", \"ZHO\"],\n",
    "    'Max Verstappen': [\"Max\", \"Verstappen\", \"VER\"],\n",
    "    'Sergio Perez': [\"Sergio\", \"Perez\", \"PER\", \"Checo\"],\n",
    "    'Lando Norris': [\"Lando\", \"Norris\", \"NOR\"],\n",
    "    'Oscar Piastri': [\"Oscar\", \"Piastri\", \"PIA\"],\n",
    "    'Daniel Ricciardo': [\"Daniel\", \"Ricciardo\", \"RIC\", \"Danny\"],\n",
    "    'Yuko Tsunoda': [\"Yuki\", \"Tsunoda\", \"TSU\"],\n",
    "    'Carlos Sainz': [\"Carlos\", \"Sainz\", \"SAI\", ],\n",
    "    'Charles Leclerc': [\"Charles\", \"Leclerc\", \"LEC\"],\n",
    "    'Fernando Alonso': [\"Fernando\", \"Alonso\", \"ALO\", \"Nando\"],\n",
    "    'Lance Stroll': [\"Lance\", \"Stroll\", \"STR\"],\n",
    "    'Esteban Ocon': [\"Esteban\", \"Ocon\", \"OCO\"],\n",
    "    'Pierre Gasly': [\"Pierre\", \"Gasly\", \"GAS\"],\n",
    "    'Alex Albon': [\"Alex\", \"Albon\", \"ALB\"],\n",
    "    'Logan Sargeant': [\"Logan\", \"Sargeant\", \"SAR\", ],\n",
    "    'Niko Hulkenberg': [\"Nico\", \"Hulkenberg\", \"HUL\"],\n",
    "    'Kevin Magnussen': [\"Kevin\", \"Magnussen\", \"MAG\"],\n",
    "}\n",
    "def preprocess_drivers(drivers):\n",
    "    return {driver: {alias.lower() for alias in aliases} for driver, aliases in drivers.items()}\n",
    "\n",
    "f1_drivers = preprocess_drivers(f1_drivers)\n",
    "f1_drivers"
   ]
  },
  {
   "cell_type": "code",
   "execution_count": 154,
   "metadata": {},
   "outputs": [],
   "source": [
    "def read_multiple_jsons(jsons: list[str]) -> pd.DataFrame:\n",
    "    return pd.concat([pd.read_json(json) for json in jsons])\n",
    "\n",
    "def get_files_from_dirextory(directory: str) -> list[str]:\n",
    "    return next(walk(\"2024_translated\"), (None, None, []))[2]"
   ]
  },
  {
   "cell_type": "code",
   "execution_count": 155,
   "metadata": {},
   "outputs": [],
   "source": [
    "directory = \"2024_translated\"\n",
    "json_files = get_files_from_dirextory(directory)\n",
    "json_files = [f\"{directory}/{file}\" for file in json_files]\n",
    "dataset = read_multiple_jsons(json_files)"
   ]
  },
  {
   "cell_type": "code",
   "execution_count": 156,
   "metadata": {},
   "outputs": [
    {
     "name": "stdout",
     "output_type": "stream",
     "text": [
      "                                                 text\n",
      "0   Fail of the day: Stroll. AKA Latifi & Magnusse...\n",
      "1   This why Ricc career is over... we see again t...\n",
      "2                                                0:19\n",
      "3          Hall Cynthia Jackson Kimberly Lewis Sharon\n",
      "4                                                   🔥\n",
      "5                Lee Ronald Hall Brenda Moore Jeffrey\n",
      "6   here after singapore gp 2024, oh how the table...\n",
      "7            Where's the scream of the engine gone? ❤\n",
      "8              Miller Angela Lewis Donald Davis Jason\n",
      "9   I'm a Red Bull fan, so when the FIA says nothi...\n",
      "10  Red Bull Racing's last grand prix dominance in...\n",
      "11  Magnuson and Hulkenberg are so overrated , the...\n",
      "12                 I rewatched this only for turn 1 😂\n",
      "13  Enjoying how Magnusson is such a menace, that ...\n",
      "14                 huge gap with norris, but now... 🙃\n",
      "94753\n"
     ]
    }
   ],
   "source": [
    "print(dataset.head(15))\n",
    "print(dataset.size)"
   ]
  },
  {
   "cell_type": "code",
   "execution_count": 157,
   "metadata": {},
   "outputs": [
    {
     "name": "stdout",
     "output_type": "stream",
     "text": [
      "text    0\n",
      "dtype: int64\n",
      "                                                 text\n",
      "0   Fail of the day: Stroll. AKA Latifi & Magnusse...\n",
      "1   This why Ricc career is over... we see again t...\n",
      "2                                                0:19\n",
      "3          Hall Cynthia Jackson Kimberly Lewis Sharon\n",
      "4                                                   🔥\n",
      "5                Lee Ronald Hall Brenda Moore Jeffrey\n",
      "6   here after singapore gp 2024, oh how the table...\n",
      "7            Where's the scream of the engine gone? ❤\n",
      "8              Miller Angela Lewis Donald Davis Jason\n",
      "9   I'm a Red Bull fan, so when the FIA says nothi...\n",
      "10  Red Bull Racing's last grand prix dominance in...\n",
      "11  Magnuson and Hulkenberg are so overrated , the...\n",
      "12                 I rewatched this only for turn 1 😂\n",
      "13  Enjoying how Magnusson is such a menace, that ...\n",
      "14                 huge gap with norris, but now... 🙃\n",
      "93793\n"
     ]
    }
   ],
   "source": [
    "dataset.dropna(inplace=True)\n",
    "dataset.reset_index(drop=True, inplace=True)\n",
    "dataset.head()\n",
    "print(dataset.isnull().sum())\n",
    "print(dataset.head(15))#\n",
    "print(dataset.size)"
   ]
  },
  {
   "cell_type": "code",
   "execution_count": 133,
   "metadata": {},
   "outputs": [],
   "source": [
    "\n",
    "def get_driver_names_without_spacy(comment, drivers):\n",
    "    matched_drivers = list(set([driver for driver, aliases in drivers.items() for alias in aliases if alias in comment.lower()]))\n",
    "    return matched_drivers\n",
    "\n",
    "dataset['drivers'] = dataset.apply(lambda row: get_driver_names_without_spacy(row['text'], drivers) if row['contains_driver'] else list(), axis=1)"
   ]
  },
  {
   "cell_type": "code",
   "execution_count": 139,
   "metadata": {},
   "outputs": [],
   "source": [
    "dataset.to_json(\"data/dataset_with_drivers.json\", orient=\"records\")\n"
   ]
  }
 ],
 "metadata": {
  "kernelspec": {
   "display_name": "venv",
   "language": "python",
   "name": "python3"
  },
  "language_info": {
   "codemirror_mode": {
    "name": "ipython",
    "version": 3
   },
   "file_extension": ".py",
   "mimetype": "text/x-python",
   "name": "python",
   "nbconvert_exporter": "python",
   "pygments_lexer": "ipython3",
   "version": "3.12.3"
  }
 },
 "nbformat": 4,
 "nbformat_minor": 2
}
