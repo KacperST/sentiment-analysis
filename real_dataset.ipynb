{
 "cells": [
  {
   "cell_type": "code",
   "execution_count": 3,
   "metadata": {},
   "outputs": [
    {
     "name": "stdout",
     "output_type": "stream",
     "text": [
      "69493\n"
     ]
    }
   ],
   "source": [
    "import pandas as  pd\n",
    "\n",
    "# DATASET_PATH = 'dataset/dataset_with_proper_sentiment.json'\n",
    "\n",
    "# neutral     32224\n",
    "# negative    28654\n",
    "# positive    25773\n",
    "# DATASET_PATH = 'data/dataset_groundtruth.json'\n",
    "# negative    35318\n",
    "# positive    29595\n",
    "# neutral     18131\n",
    "# DATASET_PATH = 'data/dataset_groundtruth_test.json'\n",
    "# negative    30613\n",
    "# neutral     26823\n",
    "# positive    25608\n",
    "DATASET_PATH = 'data/2024_12_03_only_english.json'\n",
    "df = pd.read_json(DATASET_PATH)\n",
    "print(len(df))\n",
    "drivers = df[df['drivers'].apply(lambda x: len(x) > 0)]\n",
    "drivers_count = drivers['drivers'].value_counts()\n",
    "drivers_count.to_csv('drivers_count.csv')\n",
    "# negative    27741\n",
    "# neutral     20913\n",
    "# positive    20839\n",
    "import nltk\n",
    "from nltk.stem import WordNetLemmatizer\n",
    "from nltk.stem.porter import PorterStemmer\n",
    "\n",
    "lemmatizer = WordNetLemmatizer()\n",
    "stemmer = PorterStemmer()\n",
    "\n",
    "def preprocess_text(text):\n",
    "    # Tokenize the text\n",
    "    tokens = nltk.word_tokenize(text)\n",
    "    \n",
    "    # Lemmatize and stem each token\n",
    "    lemmatized_tokens = [lemmatizer.lemmatize(token) for token in tokens]\n",
    "    stemmed_tokens = [stemmer.stem(token) for token in lemmatized_tokens]\n",
    "    \n",
    "    # Join tokens back into a single string\n",
    "    preprocessed_text = ' '.join(stemmed_tokens)\n",
    "    return preprocessed_text\n",
    "df['text'] = df['text'].apply(preprocess_text)\n"
   ]
  },
  {
   "cell_type": "code",
   "execution_count": 8,
   "metadata": {},
   "outputs": [
    {
     "name": "stdout",
     "output_type": "stream",
     "text": [
      "Total number of unique words: 30038\n"
     ]
    }
   ],
   "source": [
    "df['tokens'] = df['text'].apply(nltk.word_tokenize)\n",
    "\n",
    "# Flatten the list of tokens\n",
    "all_tokens = [token for tokens in df['tokens'] for token in tokens]\n",
    "\n",
    "# Use a set to find unique words\n",
    "unique_words = set(all_tokens)\n",
    "\n",
    "# Count the unique words\n",
    "unique_word_count = len(unique_words)\n",
    "\n",
    "print(f\"Total number of unique words: {unique_word_count}\")"
   ]
  },
  {
   "cell_type": "code",
   "execution_count": 3,
   "metadata": {},
   "outputs": [
    {
     "name": "stdout",
     "output_type": "stream",
     "text": [
      "25872\n"
     ]
    },
    {
     "data": {
      "text/plain": [
       "drivers\n",
       "[]                    43621\n",
       "[Max Verstappen]       6180\n",
       "[Lando Norris]         3760\n",
       "[Lewis Hamilton]       3339\n",
       "[Sergio Perez]         2026\n",
       "[Carlos Sainz]         1808\n",
       "[Charles Leclerc]      1699\n",
       "[George Russell]       1315\n",
       "[Oscar Piastri]        1254\n",
       "[Lance Stroll]         1029\n",
       "[Fernando Alonso]       795\n",
       "[Yuko Tsunoda]          609\n",
       "[Daniel Ricciardo]      457\n",
       "[Kevin Magnussen]       403\n",
       "[Alex Albon]            330\n",
       "[Logan Sargeant]        225\n",
       "[Valtteri Bottas]       201\n",
       "[Esteban Ocon]          188\n",
       "[Niko Hulkenberg]       106\n",
       "[Pierre Gasly]           77\n",
       "[Guan Yu Zhou]           71\n",
       "Name: count, dtype: int64"
      ]
     },
     "execution_count": 3,
     "metadata": {},
     "output_type": "execute_result"
    }
   ],
   "source": [
    "drivers_ = df[df.drivers.apply(len) > 0]\n",
    "print(drivers_.drivers.value_counts().sum())\n",
    "df.drivers.value_counts()\n"
   ]
  },
  {
   "cell_type": "code",
   "execution_count": 4,
   "metadata": {},
   "outputs": [
    {
     "name": "stdout",
     "output_type": "stream",
     "text": [
      "afinn_score\n",
      "neutral     29001\n",
      "positive    27140\n",
      "negative    13352\n",
      "Name: count, dtype: int64\n"
     ]
    },
    {
     "data": {
      "text/html": [
       "<div>\n",
       "<style scoped>\n",
       "    .dataframe tbody tr th:only-of-type {\n",
       "        vertical-align: middle;\n",
       "    }\n",
       "\n",
       "    .dataframe tbody tr th {\n",
       "        vertical-align: top;\n",
       "    }\n",
       "\n",
       "    .dataframe thead th {\n",
       "        text-align: right;\n",
       "    }\n",
       "</style>\n",
       "<table border=\"1\" class=\"dataframe\">\n",
       "  <thead>\n",
       "    <tr style=\"text-align: right;\">\n",
       "      <th></th>\n",
       "      <th>text</th>\n",
       "      <th>drivers</th>\n",
       "      <th>sentiment</th>\n",
       "      <th>afinn_score</th>\n",
       "    </tr>\n",
       "  </thead>\n",
       "  <tbody>\n",
       "    <tr>\n",
       "      <th>0</th>\n",
       "      <td>thi whi ricc career is over ... we see again t...</td>\n",
       "      <td>[Lance Stroll]</td>\n",
       "      <td>negative</td>\n",
       "      <td>negative</td>\n",
       "    </tr>\n",
       "    <tr>\n",
       "      <th>1</th>\n",
       "      <td>hall cynthia jackson kimberli lewi sharon</td>\n",
       "      <td>[Lewis Hamilton]</td>\n",
       "      <td>neutral</td>\n",
       "      <td>neutral</td>\n",
       "    </tr>\n",
       "    <tr>\n",
       "      <th>2</th>\n",
       "      <td>lee ronald hall brenda moor jeffrey</td>\n",
       "      <td>[]</td>\n",
       "      <td>neutral</td>\n",
       "      <td>neutral</td>\n",
       "    </tr>\n",
       "    <tr>\n",
       "      <th>3</th>\n",
       "      <td>here after singapor gp 2024 , oh how the tabl ...</td>\n",
       "      <td>[]</td>\n",
       "      <td>negative</td>\n",
       "      <td>neutral</td>\n",
       "    </tr>\n",
       "    <tr>\n",
       "      <th>4</th>\n",
       "      <td>where 's the scream of the engin gone ? ❤</td>\n",
       "      <td>[]</td>\n",
       "      <td>neutral</td>\n",
       "      <td>negative</td>\n",
       "    </tr>\n",
       "    <tr>\n",
       "      <th>5</th>\n",
       "      <td>I 'm a red bull fan , so when the fia say noth...</td>\n",
       "      <td>[Max Verstappen]</td>\n",
       "      <td>neutral</td>\n",
       "      <td>positive</td>\n",
       "    </tr>\n",
       "    <tr>\n",
       "      <th>6</th>\n",
       "      <td>red bull race 's last grand prix domin in the ...</td>\n",
       "      <td>[]</td>\n",
       "      <td>neutral</td>\n",
       "      <td>positive</td>\n",
       "    </tr>\n",
       "    <tr>\n",
       "      <th>7</th>\n",
       "      <td>magnuson and hulkenberg are so overr , they se...</td>\n",
       "      <td>[Niko Hulkenberg]</td>\n",
       "      <td>negative</td>\n",
       "      <td>neutral</td>\n",
       "    </tr>\n",
       "    <tr>\n",
       "      <th>8</th>\n",
       "      <td>I rewatch thi onli for turn 1 😂</td>\n",
       "      <td>[]</td>\n",
       "      <td>positive</td>\n",
       "      <td>neutral</td>\n",
       "    </tr>\n",
       "    <tr>\n",
       "      <th>9</th>\n",
       "      <td>enjoy how magnusson is such a menac , that eve...</td>\n",
       "      <td>[Lance Stroll]</td>\n",
       "      <td>negative</td>\n",
       "      <td>positive</td>\n",
       "    </tr>\n",
       "    <tr>\n",
       "      <th>10</th>\n",
       "      <td>huge gap with norri , but now ... 🙃</td>\n",
       "      <td>[Lando Norris]</td>\n",
       "      <td>neutral</td>\n",
       "      <td>positive</td>\n",
       "    </tr>\n",
       "    <tr>\n",
       "      <th>11</th>\n",
       "      <td>it kind of sad that next year will be the last...</td>\n",
       "      <td>[]</td>\n",
       "      <td>negative</td>\n",
       "      <td>neutral</td>\n",
       "    </tr>\n",
       "    <tr>\n",
       "      <th>12</th>\n",
       "      <td>for the F1 fan that stop watch after thi race ...</td>\n",
       "      <td>[]</td>\n",
       "      <td>negative</td>\n",
       "      <td>negative</td>\n",
       "    </tr>\n",
       "    <tr>\n",
       "      <th>13</th>\n",
       "      <td>china is back</td>\n",
       "      <td>[]</td>\n",
       "      <td>neutral</td>\n",
       "      <td>neutral</td>\n",
       "    </tr>\n",
       "    <tr>\n",
       "      <th>14</th>\n",
       "      <td>58th win</td>\n",
       "      <td>[]</td>\n",
       "      <td>positive</td>\n",
       "      <td>positive</td>\n",
       "    </tr>\n",
       "  </tbody>\n",
       "</table>\n",
       "</div>"
      ],
      "text/plain": [
       "                                                 text            drivers  \\\n",
       "0   thi whi ricc career is over ... we see again t...     [Lance Stroll]   \n",
       "1           hall cynthia jackson kimberli lewi sharon   [Lewis Hamilton]   \n",
       "2                 lee ronald hall brenda moor jeffrey                 []   \n",
       "3   here after singapor gp 2024 , oh how the tabl ...                 []   \n",
       "4           where 's the scream of the engin gone ? ❤                 []   \n",
       "5   I 'm a red bull fan , so when the fia say noth...   [Max Verstappen]   \n",
       "6   red bull race 's last grand prix domin in the ...                 []   \n",
       "7   magnuson and hulkenberg are so overr , they se...  [Niko Hulkenberg]   \n",
       "8                     I rewatch thi onli for turn 1 😂                 []   \n",
       "9   enjoy how magnusson is such a menac , that eve...     [Lance Stroll]   \n",
       "10                huge gap with norri , but now ... 🙃     [Lando Norris]   \n",
       "11  it kind of sad that next year will be the last...                 []   \n",
       "12  for the F1 fan that stop watch after thi race ...                 []   \n",
       "13                                      china is back                 []   \n",
       "14                                           58th win                 []   \n",
       "\n",
       "   sentiment afinn_score  \n",
       "0   negative    negative  \n",
       "1    neutral     neutral  \n",
       "2    neutral     neutral  \n",
       "3   negative     neutral  \n",
       "4    neutral    negative  \n",
       "5    neutral    positive  \n",
       "6    neutral    positive  \n",
       "7   negative     neutral  \n",
       "8   positive     neutral  \n",
       "9   negative    positive  \n",
       "10   neutral    positive  \n",
       "11  negative     neutral  \n",
       "12  negative    negative  \n",
       "13   neutral     neutral  \n",
       "14  positive    positive  "
      ]
     },
     "execution_count": 4,
     "metadata": {},
     "output_type": "execute_result"
    }
   ],
   "source": [
    "# afin sentiment analysis\n",
    "from afinn import Afinn\n",
    "\n",
    "afinn = Afinn()\n",
    "\n",
    "# add a column to the dataframe with the sentiment score\n",
    "\n",
    "def map_score(score):\n",
    "    if score > 0:\n",
    "        return 'positive'\n",
    "    elif score < 0:\n",
    "        return 'negative'\n",
    "    else:\n",
    "        return 'neutral'\n",
    "\n",
    "df['afinn_score'] = df['text'].apply(lambda x: map_score(afinn.score(x)))\n",
    "print(df.afinn_score.value_counts())\n",
    "df.head(15)"
   ]
  },
  {
   "cell_type": "code",
   "execution_count": 5,
   "metadata": {},
   "outputs": [
    {
     "name": "stdout",
     "output_type": "stream",
     "text": [
      "0.507101434676874\n",
      "[[10516  9406  7818]\n",
      " [ 1924 12195  6793]\n",
      " [  912  7400 12529]]\n"
     ]
    },
    {
     "data": {
      "image/png": "[encoded data removed]",
      "text/plain": [
       "<Figure size 640x480 with 2 Axes>"
      ]
     },
     "metadata": {},
     "output_type": "display_data"
    }
   ],
   "source": [
    "from sklearn.metrics import accuracy_score\n",
    "from sklearn.metrics import confusion_matrix\n",
    "import seaborn as sns\n",
    "import matplotlib.pyplot as plt\n",
    "print(accuracy_score(df['sentiment'], df['afinn_score']))\n",
    "conf_matrix = confusion_matrix(df['sentiment'], df['afinn_score'])\n",
    "print(conf_matrix)\n",
    "sns.heatmap(conf_matrix, annot=True, fmt='d', cmap='Blues', xticklabels=df['sentiment'].unique(), yticklabels=df['sentiment'].unique())\n",
    "plt.title('Confusion Matrix')\n",
    "plt.xlabel('Predicted Labels')\n",
    "plt.ylabel('True Labels')\n",
    "plt.savefig(\"afinn_confusion_matrix.png\")\n",
    "plt.show()"
   ]
  },
  {
   "cell_type": "code",
   "execution_count": 6,
   "metadata": {},
   "outputs": [
    {
     "name": "stderr",
     "output_type": "stream",
     "text": [
      "[nltk_data] Downloading package vader_lexicon to\n",
      "[nltk_data]     /home/kacper/nltk_data...\n",
      "[nltk_data]   Package vader_lexicon is already up-to-date!\n"
     ]
    },
    {
     "data": {
      "text/plain": [
       "True"
      ]
     },
     "execution_count": 6,
     "metadata": {},
     "output_type": "execute_result"
    }
   ],
   "source": [
    "import nltk\n",
    "nltk.download('vader_lexicon')"
   ]
  },
  {
   "cell_type": "code",
   "execution_count": 7,
   "metadata": {},
   "outputs": [
    {
     "name": "stdout",
     "output_type": "stream",
     "text": [
      "vader_score\n",
      "positive    28390\n",
      "neutral     25870\n",
      "negative    15233\n",
      "Name: count, dtype: int64\n",
      "0.5262544428935289\n"
     ]
    }
   ],
   "source": [
    "from nltk.sentiment.vader import SentimentIntensityAnalyzer\n",
    "\n",
    "vader = SentimentIntensityAnalyzer()\n",
    "\n",
    "def map_score_vader(score):\n",
    "    if score['compound'] >= 0.05:\n",
    "        return 'positive'\n",
    "    elif score['compound'] <= -0.05:\n",
    "        return 'negative'\n",
    "    else:\n",
    "        return 'neutral'\n",
    "    \n",
    "df['vader_score'] = df['text'].apply(lambda x: map_score_vader(vader.polarity_scores(x)))\n",
    "print(df.vader_score.value_counts())\n",
    "print(accuracy_score(df['sentiment'], df['vader_score']))"
   ]
  },
  {
   "cell_type": "code",
   "execution_count": 28,
   "metadata": {},
   "outputs": [
    {
     "name": "stdout",
     "output_type": "stream",
     "text": [
      "[[14422  6195  7123]\n",
      " [ 2629 10902  7381]\n",
      " [  970  4618 15253]]\n"
     ]
    },
    {
     "data": {
      "image/png": "[encoded data removed]",
      "text/plain": [
       "<Figure size 640x480 with 2 Axes>"
      ]
     },
     "metadata": {},
     "output_type": "display_data"
    }
   ],
   "source": [
    "conf_matrix = confusion_matrix(df['sentiment'], df['vader_score'])\n",
    "print(conf_matrix)\n",
    "sns.heatmap(conf_matrix, annot=True, fmt='d', cmap='Blues', xticklabels=df['sentiment'].unique(), yticklabels=df['sentiment'].unique())\n",
    "plt.title('Confusion Matrix')\n",
    "plt.xlabel('Predicted Labels')\n",
    "plt.ylabel('True Labels')\n",
    "plt.savefig(\"vader_confusion_matrix.png\")\n",
    "plt.show()"
   ]
  },
  {
   "cell_type": "code",
   "execution_count": 18,
   "metadata": {},
   "outputs": [],
   "source": [
    "df.to_json('data/affin_vader.json', orient='records')\n",
    "df = pd.read_json('data/affin_vader.json')"
   ]
  },
  {
   "cell_type": "code",
   "execution_count": 19,
   "metadata": {},
   "outputs": [],
   "source": [
    "df_diff = df[(df['afinn_score'] != df['vader_score']) & (df['sentiment'] != df['vader_score'])]\n",
    "df_diff.to_json('data/affin_vader_diff.json', orient='records')\n"
   ]
  },
  {
   "cell_type": "code",
   "execution_count": 20,
   "metadata": {},
   "outputs": [
    {
     "data": {
      "text/html": [
       "<div>\n",
       "<style scoped>\n",
       "    .dataframe tbody tr th:only-of-type {\n",
       "        vertical-align: middle;\n",
       "    }\n",
       "\n",
       "    .dataframe tbody tr th {\n",
       "        vertical-align: top;\n",
       "    }\n",
       "\n",
       "    .dataframe thead th {\n",
       "        text-align: right;\n",
       "    }\n",
       "</style>\n",
       "<table border=\"1\" class=\"dataframe\">\n",
       "  <thead>\n",
       "    <tr style=\"text-align: right;\">\n",
       "      <th></th>\n",
       "      <th>text</th>\n",
       "      <th>drivers</th>\n",
       "      <th>sentiment</th>\n",
       "      <th>afinn_score</th>\n",
       "      <th>vader_score</th>\n",
       "    </tr>\n",
       "  </thead>\n",
       "  <tbody>\n",
       "    <tr>\n",
       "      <th>0</th>\n",
       "      <td>Enjoying how Magnusson is such a menace, that ...</td>\n",
       "      <td>[Lance Stroll]</td>\n",
       "      <td>negative</td>\n",
       "      <td>neutral</td>\n",
       "      <td>positive</td>\n",
       "    </tr>\n",
       "    <tr>\n",
       "      <th>1</th>\n",
       "      <td>why isz the air gray</td>\n",
       "      <td>[]</td>\n",
       "      <td>neutral</td>\n",
       "      <td>negative</td>\n",
       "      <td>neutral</td>\n",
       "    </tr>\n",
       "    <tr>\n",
       "      <th>2</th>\n",
       "      <td>Stroll is a troll</td>\n",
       "      <td>[Lance Stroll]</td>\n",
       "      <td>negative</td>\n",
       "      <td>negative</td>\n",
       "      <td>neutral</td>\n",
       "    </tr>\n",
       "    <tr>\n",
       "      <th>3</th>\n",
       "      <td>You know it's China when u can't see the sky.....</td>\n",
       "      <td>[]</td>\n",
       "      <td>negative</td>\n",
       "      <td>negative</td>\n",
       "      <td>neutral</td>\n",
       "    </tr>\n",
       "    <tr>\n",
       "      <th>4</th>\n",
       "      <td>I wish they would stop repeatedly saying Alons...</td>\n",
       "      <td>[Fernando Alonso]</td>\n",
       "      <td>negative</td>\n",
       "      <td>neutral</td>\n",
       "      <td>positive</td>\n",
       "    </tr>\n",
       "    <tr>\n",
       "      <th>5</th>\n",
       "      <td>Stopped watching after season opener , too pre...</td>\n",
       "      <td>[Fernando Alonso]</td>\n",
       "      <td>negative</td>\n",
       "      <td>negative</td>\n",
       "      <td>positive</td>\n",
       "    </tr>\n",
       "    <tr>\n",
       "      <th>6</th>\n",
       "      <td>Boring Boring, Boring. Here we go again. The h...</td>\n",
       "      <td>[]</td>\n",
       "      <td>negative</td>\n",
       "      <td>negative</td>\n",
       "      <td>positive</td>\n",
       "    </tr>\n",
       "    <tr>\n",
       "      <th>7</th>\n",
       "      <td>I really wish F1 would find a new announcer.  ...</td>\n",
       "      <td>[]</td>\n",
       "      <td>negative</td>\n",
       "      <td>negative</td>\n",
       "      <td>positive</td>\n",
       "    </tr>\n",
       "    <tr>\n",
       "      <th>8</th>\n",
       "      <td>Stroll has to go. I can't believe that the oth...</td>\n",
       "      <td>[Lance Stroll]</td>\n",
       "      <td>negative</td>\n",
       "      <td>negative</td>\n",
       "      <td>positive</td>\n",
       "    </tr>\n",
       "    <tr>\n",
       "      <th>9</th>\n",
       "      <td>Do you think Perez is an average driver ?\\n.\\n...</td>\n",
       "      <td>[Sergio Perez]</td>\n",
       "      <td>negative</td>\n",
       "      <td>neutral</td>\n",
       "      <td>positive</td>\n",
       "    </tr>\n",
       "    <tr>\n",
       "      <th>10</th>\n",
       "      <td>this so called \" caster \" is ruining these vid...</td>\n",
       "      <td>[]</td>\n",
       "      <td>negative</td>\n",
       "      <td>negative</td>\n",
       "      <td>positive</td>\n",
       "    </tr>\n",
       "    <tr>\n",
       "      <th>11</th>\n",
       "      <td>Who is this commentator, absolutely unbearable...</td>\n",
       "      <td>[]</td>\n",
       "      <td>negative</td>\n",
       "      <td>negative</td>\n",
       "      <td>neutral</td>\n",
       "    </tr>\n",
       "    <tr>\n",
       "      <th>12</th>\n",
       "      <td>get out of track canadian prince plz</td>\n",
       "      <td>[]</td>\n",
       "      <td>negative</td>\n",
       "      <td>neutral</td>\n",
       "      <td>positive</td>\n",
       "    </tr>\n",
       "    <tr>\n",
       "      <th>13</th>\n",
       "      <td>i really want to see the onboard of russel and...</td>\n",
       "      <td>[Fernando Alonso]</td>\n",
       "      <td>neutral</td>\n",
       "      <td>negative</td>\n",
       "      <td>positive</td>\n",
       "    </tr>\n",
       "    <tr>\n",
       "      <th>14</th>\n",
       "      <td>Someone tell stroll.he doesn't have what it ta...</td>\n",
       "      <td>[]</td>\n",
       "      <td>negative</td>\n",
       "      <td>neutral</td>\n",
       "      <td>positive</td>\n",
       "    </tr>\n",
       "  </tbody>\n",
       "</table>\n",
       "</div>"
      ],
      "text/plain": [
       "                                                 text            drivers  \\\n",
       "0   Enjoying how Magnusson is such a menace, that ...     [Lance Stroll]   \n",
       "1                                why isz the air gray                 []   \n",
       "2                                   Stroll is a troll     [Lance Stroll]   \n",
       "3   You know it's China when u can't see the sky.....                 []   \n",
       "4   I wish they would stop repeatedly saying Alons...  [Fernando Alonso]   \n",
       "5   Stopped watching after season opener , too pre...  [Fernando Alonso]   \n",
       "6   Boring Boring, Boring. Here we go again. The h...                 []   \n",
       "7   I really wish F1 would find a new announcer.  ...                 []   \n",
       "8   Stroll has to go. I can't believe that the oth...     [Lance Stroll]   \n",
       "9   Do you think Perez is an average driver ?\\n.\\n...     [Sergio Perez]   \n",
       "10  this so called \" caster \" is ruining these vid...                 []   \n",
       "11  Who is this commentator, absolutely unbearable...                 []   \n",
       "12               get out of track canadian prince plz                 []   \n",
       "13  i really want to see the onboard of russel and...  [Fernando Alonso]   \n",
       "14  Someone tell stroll.he doesn't have what it ta...                 []   \n",
       "\n",
       "   sentiment afinn_score vader_score  \n",
       "0   negative     neutral    positive  \n",
       "1    neutral    negative     neutral  \n",
       "2   negative    negative     neutral  \n",
       "3   negative    negative     neutral  \n",
       "4   negative     neutral    positive  \n",
       "5   negative    negative    positive  \n",
       "6   negative    negative    positive  \n",
       "7   negative    negative    positive  \n",
       "8   negative    negative    positive  \n",
       "9   negative     neutral    positive  \n",
       "10  negative    negative    positive  \n",
       "11  negative    negative     neutral  \n",
       "12  negative     neutral    positive  \n",
       "13   neutral    negative    positive  \n",
       "14  negative     neutral    positive  "
      ]
     },
     "execution_count": 20,
     "metadata": {},
     "output_type": "execute_result"
    }
   ],
   "source": [
    "\n",
    "fixed_df = pd.read_json('data/affin_vader_diff.json')\n",
    "df.update(fixed_df)\n",
    "df.head(15)"
   ]
  },
  {
   "cell_type": "code",
   "execution_count": 22,
   "metadata": {},
   "outputs": [],
   "source": [
    "df.to_json('data/2024_12_0_real.json', orient='records')"
   ]
  },
  {
   "cell_type": "code",
   "execution_count": 24,
   "metadata": {},
   "outputs": [
    {
     "name": "stdout",
     "output_type": "stream",
     "text": [
      "19512\n"
     ]
    }
   ],
   "source": [
    "df.drivers.value_counts()\n",
    "print(len(df) - 67139)"
   ]
  }
 ],
 "metadata": {
  "kernelspec": {
   "display_name": "venv",
   "language": "python",
   "name": "python3"
  },
  "language_info": {
   "codemirror_mode": {
    "name": "ipython",
    "version": 3
   },
   "file_extension": ".py",
   "mimetype": "text/x-python",
   "name": "python",
   "nbconvert_exporter": "python",
   "pygments_lexer": "ipython3",
   "version": "3.12.3"
  }
 },
 "nbformat": 4,
 "nbformat_minor": 2
}
